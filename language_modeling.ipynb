{
  "cells": [
    {
      "cell_type": "markdown",
      "metadata": {
        "id": "view-in-github",
        "colab_type": "text"
      },
      "source": [
        "<a href=\"https://colab.research.google.com/github/alyson-mei/ml_stuff/blob/beta/language_modeling.ipynb\" target=\"_parent\"><img src=\"https://colab.research.google.com/assets/colab-badge.svg\" alt=\"Open In Colab\"/></a>"
      ]
    },
    {
      "cell_type": "markdown",
      "metadata": {
        "id": "Q4fLtKAzslJ2"
      },
      "source": [
        "# Poetry generation with NN"
      ]
    },
    {
      "cell_type": "markdown",
      "source": [
        "## Setup"
      ],
      "metadata": {
        "id": "yqVdGRtXtM3U"
      }
    },
    {
      "cell_type": "code",
      "execution_count": 1,
      "metadata": {
        "id": "aaqXNU_xslJ6"
      },
      "outputs": [],
      "source": [
        "import string\n",
        "import os\n",
        "from random import sample\n",
        "\n",
        "import numpy as np\n",
        "import torch, torch.nn as nn\n",
        "import torch.nn.functional as F\n",
        "\n",
        "from IPython.display import clear_output\n",
        "import matplotlib.pyplot as plt\n",
        "from tqdm import tqdm\n",
        "\n",
        "device = torch.device('cuda') if torch.cuda.is_available() else torch.device('cpu')"
      ]
    },
    {
      "cell_type": "code",
      "execution_count": 2,
      "metadata": {
        "colab": {
          "base_uri": "https://localhost:8080/"
        },
        "id": "aOMwqSj4slJ9",
        "outputId": "6d36a3fe-1ddc-41fc-b859-ccf9e82fb8bd"
      },
      "outputs": [
        {
          "output_type": "stream",
          "name": "stdout",
          "text": [
            "--2025-01-07 07:29:21--  https://raw.githubusercontent.com/neychev/small_DL_repo/master/datasets/onegin.txt\n",
            "Resolving raw.githubusercontent.com (raw.githubusercontent.com)... 185.199.108.133, 185.199.109.133, 185.199.110.133, ...\n",
            "Connecting to raw.githubusercontent.com (raw.githubusercontent.com)|185.199.108.133|:443... connected.\n",
            "HTTP request sent, awaiting response... 200 OK\n",
            "Length: 262521 (256K) [text/plain]\n",
            "Saving to: ‘onegin.txt’\n",
            "\n",
            "onegin.txt          100%[===================>] 256.37K  --.-KB/s    in 0.003s  \n",
            "\n",
            "2025-01-07 07:29:22 (95.1 MB/s) - ‘onegin.txt’ saved [262521/262521]\n",
            "\n"
          ]
        }
      ],
      "source": [
        "!wget https://raw.githubusercontent.com/neychev/small_DL_repo/master/datasets/onegin.txt\n",
        "\n",
        "with open('onegin.txt', 'r') as iofile:\n",
        "    text = iofile.readlines()\n",
        "\n",
        "text = \"\".join([x.replace('\\t\\t', '').lower() for x in text])"
      ]
    },
    {
      "cell_type": "markdown",
      "metadata": {
        "id": "XQYpmGfR_gJ8"
      },
      "source": [
        "## Char based approach"
      ]
    },
    {
      "cell_type": "markdown",
      "source": [
        "The most basic idea: predicting a token from a sequence of length N"
      ],
      "metadata": {
        "id": "uX7LO1rz5Nrs"
      }
    },
    {
      "cell_type": "markdown",
      "source": [
        "### Tokenization and indexing"
      ],
      "metadata": {
        "id": "gGKK23BCyLli"
      }
    },
    {
      "cell_type": "code",
      "execution_count": 3,
      "metadata": {
        "colab": {
          "base_uri": "https://localhost:8080/"
        },
        "id": "Ha9CyLJCslJ-",
        "outputId": "ff953208-395f-490e-b2b0-6acd4cbbb4aa"
      },
      "outputs": [
        {
          "output_type": "stream",
          "name": "stdout",
          "text": [
            "['\\n', ' ', '!', '(', ')', ',', '-', '.', '5', '7', '8', '9', ':', ';', '?', '[', ']', '^', 'a', 'b', 'c', 'd', 'e', 'f', 'g', 'h', 'i', 'k', 'l', 'm', 'n', 'o', 'p', 'q', 'r', 's', 't', 'u', 'v', 'w', 'x', 'y', 'z', '«', '»', 'а', 'б', 'в', 'г', 'д', 'е', 'ж', 'з', 'и', 'й', 'к', 'л', 'м', 'н', 'о', 'п', 'р', 'с', 'т', 'у', 'ф', 'х', 'ц', 'ч', 'ш', 'щ', 'ъ', 'ы', 'ь', 'э', 'ю', 'я', 'ё', '–', '—', '’', '…', '€', '<sos>']\n"
          ]
        }
      ],
      "source": [
        "tokens = sorted(set(text.lower())) + ['<sos>']\n",
        "num_tokens = len(tokens)\n",
        "\n",
        "assert num_tokens == 84, \"Check the tokenization process\"\n",
        "\n",
        "token_to_idx = {x: idx for idx, x in enumerate(tokens)}\n",
        "idx_to_token = {idx: x for idx, x in enumerate(tokens)}\n",
        "\n",
        "assert len(tokens) == len(token_to_idx), \"Mapping should be unique\"\n",
        "\n",
        "text_encoded = [token_to_idx[x] for x in text]\n",
        "\n",
        "print(tokens)"
      ]
    },
    {
      "cell_type": "code",
      "execution_count": 4,
      "metadata": {
        "id": "_JfM77ZQslJ_"
      },
      "outputs": [],
      "source": [
        "batch_size = 256\n",
        "seq_length = 100\n",
        "start_column = np.zeros((batch_size, 1), dtype=int) + token_to_idx['<sos>']\n",
        "\n",
        "def generate_batch():\n",
        "    '''\n",
        "    random start seq_length\n",
        "    '''\n",
        "\n",
        "    global text_encoded, start_column, batch_size, seq_length\n",
        "\n",
        "    start_index = np.random.randint(0, len(text_encoded) - batch_size*seq_length - 1)\n",
        "    data = np.array(text_encoded[start_index:start_index + batch_size*seq_length]).reshape((batch_size, -1))\n",
        "\n",
        "    yield np.hstack((start_column, data))\n",
        "\n",
        "N_TOKENS = num_tokens"
      ]
    },
    {
      "cell_type": "code",
      "execution_count": 5,
      "metadata": {
        "colab": {
          "base_uri": "https://localhost:8080/"
        },
        "id": "ejuv1DhaslKA",
        "outputId": "1d47ac18-6f82-4d83-a36e-74c468de5a9f"
      },
      "outputs": [
        {
          "output_type": "execute_result",
          "data": {
            "text/plain": [
              "array([[83, 68, 50, ..., 51,  1, 60],\n",
              "       [83, 50, 56, ...,  1, 47, 59],\n",
              "       [83, 56, 58, ..., 50, 75, 70],\n",
              "       ...,\n",
              "       [83, 56, 73, ..., 59,  0, 58],\n",
              "       [83, 45,  1, ..., 59, 47, 59],\n",
              "       [83, 57,  1, ..., 59, 62, 63]])"
            ]
          },
          "metadata": {},
          "execution_count": 5
        }
      ],
      "source": [
        "batch = next(generate_batch())\n",
        "batch"
      ]
    },
    {
      "cell_type": "markdown",
      "source": [
        "### Train"
      ],
      "metadata": {
        "id": "RcThZ-M61xY_"
      }
    },
    {
      "cell_type": "code",
      "source": [
        "def seqs_to_texts(sequences, idx_to_token):\n",
        "    texts = []\n",
        "    for seq in sequences:\n",
        "        text = []\n",
        "        for idx in seq:\n",
        "            text.append(idx_to_token[int(idx)])\n",
        "        texts.append(''.join(text))\n",
        "    return texts"
      ],
      "metadata": {
        "id": "dNiRKOzXWImM"
      },
      "execution_count": 6,
      "outputs": []
    },
    {
      "cell_type": "code",
      "source": [
        "seqs_to_texts(batch[:5], idx_to_token)"
      ],
      "metadata": {
        "colab": {
          "base_uri": "https://localhost:8080/"
        },
        "id": "aAmW96qAXGdy",
        "outputId": "592f7a89-adde-4bbc-fbb0-1ce92216fd68"
      },
      "execution_count": 7,
      "outputs": [
        {
          "output_type": "execute_result",
          "data": {
            "text/plain": [
              "['<sos>чела за данью полевой\\nлетит из кельи восковой.\\nдолины сохнут и пестреют;\\nстада шумят, и соловей\\nуж п',\n",
              " '<sos>ел в безмолвии ночей.\\n\\n\\n\\nii\\n\\nкак грустно мне твое явленье,\\nвесна, весна! пора любви!\\nкакое томное во',\n",
              " '<sos>лненье\\nв моей душе, в моей крови!\\nс каким тяжелым умиленьем\\nя наслаждаюсь дуновеньем\\nв лицо мне веющ',\n",
              " '<sos>ей весны\\nна лоне сельской тишины!\\nили мне чуждо наслажденье,\\nи всё, что радует, живит,\\nвсё, что лику',\n",
              " '<sos>ет и блестит,\\nнаводит скуку и томленье\\nна душу мертвую давно,\\nи всё ей кажется темно?\\n\\n\\n\\niii\\n\\nили, н']"
            ]
          },
          "metadata": {},
          "execution_count": 7
        }
      ]
    },
    {
      "cell_type": "code",
      "source": [
        "def outputs_top_k(outputs, idx_to_token, k = 5):\n",
        "    top_k = []\n",
        "    for output in outputs:\n",
        "        top_tok = []\n",
        "        top_ids = torch.argsort(output, descending = True)[:5]\n",
        "        for idx in top_ids:\n",
        "            top_tok.append(idx_to_token[int(idx)])\n",
        "        top_k.append(top_tok)\n",
        "    return top_k"
      ],
      "metadata": {
        "id": "m3QKCGorZhcE"
      },
      "execution_count": 8,
      "outputs": []
    },
    {
      "cell_type": "code",
      "source": [
        "test_output = F.softmax(torch.rand(4, N_TOKENS), dim = 1)\n",
        "outputs_top_k(test_output, idx_to_token)"
      ],
      "metadata": {
        "colab": {
          "base_uri": "https://localhost:8080/"
        },
        "id": "GnoPnEefbHhH",
        "outputId": "3fa016ec-4189-4b3a-b6e0-a4ae42052f1c"
      },
      "execution_count": 9,
      "outputs": [
        {
          "output_type": "execute_result",
          "data": {
            "text/plain": [
              "[['р', ')', '[', '€', 'й'],\n",
              " ['ы', 'c', 'ю', 'й', '5'],\n",
              " ['в', 'ж', '7', 'l', 'й'],\n",
              " ['<sos>', 'h', 'r', 'u', 'т']]"
            ]
          },
          "metadata": {},
          "execution_count": 9
        }
      ]
    },
    {
      "cell_type": "code",
      "source": [
        "def train(model, optimizer, criterion, device = device, n_steps = 10000, eval_every = 100):\n",
        "    loss_history = []\n",
        "    running_loss = 0.0\n",
        "\n",
        "    for step in tqdm(range(n_steps)):\n",
        "        model.train()\n",
        "        batch = torch.LongTensor(next(generate_batch())).to(device)\n",
        "        input = batch[:, :-1]\n",
        "        target = batch[:, -1]\n",
        "        output, _ = model(input)\n",
        "        output = output[:, -1, :]\n",
        "\n",
        "        optimizer.zero_grad()\n",
        "        loss = criterion(output, target)\n",
        "        loss.backward()\n",
        "        optimizer.step()\n",
        "\n",
        "        running_loss += loss.item()\n",
        "\n",
        "        if step > 0 and step % eval_every == 0:\n",
        "            model.eval()\n",
        "            clear_output(wait = True)\n",
        "            stt = seqs_to_texts(batch[:5], idx_to_token)\n",
        "            otk = outputs_top_k(output[:5], idx_to_token)\n",
        "            for i in range(5):\n",
        "                print(f'{stt[i]} {otk[i]} \\n')\n",
        "            running_loss /= eval_every\n",
        "            print(f'{eval_every} steps average loss {running_loss}')\n",
        "            loss_history.append(running_loss)\n",
        "            plt.plot(loss_history)\n",
        "            plt.show()"
      ],
      "metadata": {
        "id": "qlwdrrkD1zGb"
      },
      "execution_count": 10,
      "outputs": []
    },
    {
      "cell_type": "markdown",
      "source": [
        "### Eval"
      ],
      "metadata": {
        "id": "xGmEU_5Y6YXD"
      }
    },
    {
      "cell_type": "code",
      "source": [
        "def generate_sample(char_rnn, seed_phrase = None, max_length = 200, temperature = 1.0, device = device):\n",
        "    '''\n",
        "    The function generates text given a phrase of length at least SEQ_LENGTH.\n",
        "    :param seed_phrase: prefix characters. The RNN is asked to continue the phrase\n",
        "    :param max_length: maximum output length, including seed_phrase\n",
        "    :param temperature: coefficient for sampling.  higher temperature produces more chaotic outputs,\n",
        "                        smaller temperature converges to the single most likely output\n",
        "    '''\n",
        "\n",
        "    if seed_phrase is not None:\n",
        "        x_sequence = [token_to_idx['<sos>']] + [token_to_idx[token] for token in seed_phrase]\n",
        "    else:\n",
        "        x_sequence = [token_to_idx['<sos>']]\n",
        "\n",
        "    x_sequence = torch.tensor([x_sequence], dtype=torch.int64).to(device)\n",
        "\n",
        "    model.eval()\n",
        "    while len(x_sequence.squeeze()) < max_length:\n",
        "        output, hidden = model(x_sequence[:, -100:])\n",
        "        output = output.squeeze()[-1]\n",
        "        output = F.softmax(output / temperature, dim = 0)\n",
        "        idx = torch.multinomial(output, num_samples = 1)\n",
        "        x_sequence = torch.cat([x_sequence, idx.reshape(1, 1)], dim = 1)\n",
        "\n",
        "    return ''.join([tokens[ix] for ix in x_sequence.cpu().data.numpy()[0]])"
      ],
      "metadata": {
        "id": "NlYCQ59S6ard"
      },
      "execution_count": 11,
      "outputs": []
    },
    {
      "cell_type": "markdown",
      "source": [
        "### Vanilla RNN"
      ],
      "metadata": {
        "id": "nuZHcFG0yOWE"
      }
    },
    {
      "cell_type": "code",
      "source": [
        "class RNN(nn.Module):\n",
        "\n",
        "    def __init__(self, input_size = N_TOKENS, embedding_size = N_TOKENS, hidden_size = 256, num_layers = 1, dropout = 0.25):\n",
        "        super().__init__()\n",
        "\n",
        "        self.embedding = nn.Embedding(input_size, embedding_size)\n",
        "        self.dropout = 0.0 if num_layers == 1 else dropout\n",
        "        self.rnn = nn.RNN(embedding_size, hidden_size, num_layers = num_layers, bidirectional = True, dropout = self.dropout, batch_first = True)\n",
        "        self.decoder = nn.Linear(2 * hidden_size, input_size)\n",
        "\n",
        "    def forward(self, X):\n",
        "        X = self.embedding(X)\n",
        "        X, hidden = self.rnn(X)\n",
        "        X = self.decoder(X)\n",
        "        return X, hidden"
      ],
      "metadata": {
        "id": "-h1WPsdzxBmL"
      },
      "execution_count": 34,
      "outputs": []
    },
    {
      "cell_type": "code",
      "source": [
        "test_model = RNN().to(device)\n",
        "batch = torch.LongTensor(next(generate_batch())).to(device)\n",
        "input = batch[:, :-1]\n",
        "target = batch[:, -1]\n",
        "output, hidden = test_model(input)\n",
        "print(output.shape, hidden.shape)"
      ],
      "metadata": {
        "colab": {
          "base_uri": "https://localhost:8080/"
        },
        "id": "gAE9duxl1HE-",
        "outputId": "dbf5de48-2680-4c85-f7c5-e83f10c99b45"
      },
      "execution_count": 35,
      "outputs": [
        {
          "output_type": "stream",
          "name": "stdout",
          "text": [
            "torch.Size([256, 100, 84]) torch.Size([2, 256, 256])\n"
          ]
        }
      ]
    },
    {
      "cell_type": "code",
      "source": [
        "model = RNN(num_layers = 2).to(device)\n",
        "criterion = nn.CrossEntropyLoss()\n",
        "optimizer = torch.optim.Adam(model.parameters(), lr = 1e-3)"
      ],
      "metadata": {
        "id": "xK798oOa8Nft"
      },
      "execution_count": 36,
      "outputs": []
    },
    {
      "cell_type": "code",
      "source": [
        "train(model, optimizer, criterion, n_steps = 5000)\n",
        "optimizer.lr = 3e-4\n",
        "train(model, optimizer, criterion, n_steps = 5000)"
      ],
      "metadata": {
        "colab": {
          "base_uri": "https://localhost:8080/",
          "height": 1000
        },
        "id": "sGb13IOa8kur",
        "outputId": "2486a43c-4854-402f-b797-61e100e900af"
      },
      "execution_count": 38,
      "outputs": [
        {
          "output_type": "stream",
          "name": "stdout",
          "text": [
            "<sos>одят,\n",
            "мелькают профили голов\n",
            "и дам и модных чудаков.\n",
            "\n",
            "\n",
            "\n",
            "xxviii\n",
            "\n",
            "вот наш герой подъехал к сеням;\n",
            "швей ['р', 'т', 'л', 'з', 'д'] \n",
            "\n",
            "<sos>цара мимо он стрелой\n",
            "взлетел по мраморным ступеням,\n",
            "расправил волоса рукой,\n",
            "вошел. полна народу зала ['о', 'е', 'м', 'и', 'т'] \n",
            "\n",
            "<sos>;\n",
            "музыка уж греметь устала;\n",
            "толпа мазуркой занята;\n",
            "кругом и шум и теснота;\n",
            "бренчат кавалергарда шпор ['р', 'й', 'в', 'ж', 'с'] \n",
            "\n",
            "<sos>ы;\n",
            "летают ножки милых дам;\n",
            "по их пленительным следам\n",
            "летают пламенные взоры,\n",
            "и ревом скрыпок заглуше ['и', 'н', 'а', 'е', 'к'] \n",
            "\n",
            "<sos>н\n",
            "ревнивый шепот модных жен.\n",
            "\n",
            "\n",
            "\n",
            "xxix\n",
            "\n",
            "во дни веселий и желаний\n",
            "я был от балов без ума:\n",
            "верней нет ме ['е', 'о', 'и', 'ы', 'а'] \n",
            "\n",
            "100 steps average loss 1.5650253707293103\n"
          ]
        },
        {
          "output_type": "display_data",
          "data": {
            "text/plain": [
              "<Figure size 640x480 with 1 Axes>"
            ],
            "image/png": "[encoded data removed]"
          },
          "metadata": {}
        },
        {
          "output_type": "stream",
          "name": "stderr",
          "text": [
            "100%|██████████| 5000/5000 [04:08<00:00, 20.14it/s]\n"
          ]
        }
      ]
    },
    {
      "cell_type": "code",
      "source": [
        "#torch.save(model.state_dict(), 'basic_rnn')\n",
        "#model.load_state_dict(torch.load('/content/basic_rnn', weights_only = True))"
      ],
      "metadata": {
        "id": "3a1yxTRdCHql"
      },
      "execution_count": null,
      "outputs": []
    },
    {
      "cell_type": "code",
      "source": [
        "print(generate_sample(model, ' мой дядя самых честных правил', max_length = 500, temperature = 0.6))"
      ],
      "metadata": {
        "colab": {
          "base_uri": "https://localhost:8080/"
        },
        "id": "pH01g2PI64j5",
        "outputId": "e4a80a67-184e-4fcf-bb2e-aa083118be51"
      },
      "execution_count": 40,
      "outputs": [
        {
          "output_type": "stream",
          "name": "stdout",
          "text": [
            "<sos> мой дядя самых честных правил:\n",
            "со все всё теперь вновь на станом\n",
            "и прочем ленского порой!\n",
            "и ольге же отучно их.\n",
            "так благословенные властво\n",
            "и кричат может быть собая!\n",
            "он сердце свои пущелая,\n",
            "привычка светлою душою;\n",
            "он совор и слушает своей.\n",
            "\n",
            "\n",
            "\n",
            "xlii\n",
            "\n",
            "старинчей моей домой взор\n",
            "всё после по красною шель.\n",
            "то всё которой возвратаясь вот\n",
            "на вас оставленной ребене\n",
            "пред своей надежду порог\n",
            "вы сках, вдруг, бы не заменян,\n",
            "в беспечно на шепчут и вздор;\n",
            "все тайно светла таков бестра,\n",
            "и всё берешь с вечер п\n"
          ]
        }
      ]
    },
    {
      "cell_type": "markdown",
      "source": [
        "### GRU"
      ],
      "metadata": {
        "id": "pZNkLkH17nyC"
      }
    },
    {
      "cell_type": "code",
      "source": [
        "class GRU(nn.Module):\n",
        "\n",
        "    def __init__(self, input_size = N_TOKENS, embedding_size = N_TOKENS, hidden_size = 256, num_layers = 1, dropout = 0.25):\n",
        "        super().__init__()\n",
        "\n",
        "        self.embedding = nn.Embedding(input_size, embedding_size)\n",
        "        self.dropout = 0.0 if num_layers == 1 else dropout\n",
        "        self.gru = nn.GRU(embedding_size, hidden_size, num_layers = num_layers, bidirectional = True, dropout = self.dropout, batch_first = True)\n",
        "        self.decoder = nn.Linear(2 * hidden_size, input_size)\n",
        "\n",
        "    def forward(self, X):\n",
        "        X = self.embedding(X)\n",
        "        X, hidden = self.gru(X)\n",
        "        X = self.decoder(X)\n",
        "        return X, hidden"
      ],
      "metadata": {
        "id": "t2nRglDX7phg"
      },
      "execution_count": 41,
      "outputs": []
    },
    {
      "cell_type": "code",
      "source": [
        "model = GRU(num_layers = 2).to(device)\n",
        "criterion = nn.CrossEntropyLoss()\n",
        "optimizer = torch.optim.Adam(model.parameters(), lr = 1e-3)"
      ],
      "metadata": {
        "id": "AHOKS00wg1DR"
      },
      "execution_count": 42,
      "outputs": []
    },
    {
      "cell_type": "code",
      "source": [
        "train(model, optimizer, criterion, n_steps = 5000)\n",
        "optimizer.lr = 3e-4\n",
        "train(model, optimizer, criterion, n_steps = 5000)"
      ],
      "metadata": {
        "colab": {
          "base_uri": "https://localhost:8080/",
          "height": 1000
        },
        "id": "kW1YXbeyCXuQ",
        "outputId": "1b4f26f8-861c-4907-c5da-bee6e55cc3c2"
      },
      "execution_count": 43,
      "outputs": [
        {
          "output_type": "stream",
          "name": "stdout",
          "text": [
            "<sos>дохи, скуку и обман\n",
            "(и тем я начал мой роман);\n",
            "но, прилетев в деревню дяди,\n",
            "его нашел уж на столе,\n",
            "к ['п', 'к', 'с', 'б', 'ч'] \n",
            "\n",
            "<sos>ак дань, готовую земле.\n",
            "\n",
            "\n",
            "\n",
            "liii\n",
            "\n",
            "нашел он полон двор услуги;\n",
            "к покойнику со всех сторон\n",
            "съезжались н ['в', 'с', 'т', 'н', 'р'] \n",
            "\n",
            "<sos>едруги и други,\n",
            "охотники до похорон.\n",
            "покойника похоронили.\n",
            "попы и гости ели, пили\n",
            "и после важно разо ['г', 'л', ' ', 'ъ', 'н'] \n",
            "\n",
            "<sos>шлись,\n",
            "как будто делом занялись.\n",
            "вот наш онегин – сельский житель,\n",
            "заводов, вод, лесов, земель\n",
            "хозяи ['т', 'р', 'и', 'н', 'м'] \n",
            "\n",
            "<sos>н полный, а досель\n",
            "порядка враг и расточитель,\n",
            "и очень рад, что прежний путь\n",
            "переменил на что-нибудь ['ь', 'о', '\\n', '.', 'с'] \n",
            "\n",
            "100 steps average loss 1.1064050694793819\n"
          ]
        },
        {
          "output_type": "display_data",
          "data": {
            "text/plain": [
              "<Figure size 640x480 with 1 Axes>"
            ],
            "image/png": "[encoded data removed]"
          },
          "metadata": {}
        },
        {
          "output_type": "stream",
          "name": "stderr",
          "text": [
            "100%|██████████| 5000/5000 [09:24<00:00,  8.85it/s]\n"
          ]
        }
      ]
    },
    {
      "cell_type": "code",
      "source": [
        "print(generate_sample(model, ' мой дядя самых честных правил,', max_length = 500, temperature = 0.8))"
      ],
      "metadata": {
        "colab": {
          "base_uri": "https://localhost:8080/"
        },
        "id": "bXirHYmZEnpq",
        "outputId": "9ebd3cf4-8a97-4a15-a7c9-8495ccfe0ab1"
      },
      "execution_count": 55,
      "outputs": [
        {
          "output_type": "stream",
          "name": "stdout",
          "text": [
            "<sos> мой дядя самых честных правил,\n",
            "гремят он уж тем русских стек\n",
            "славно уж постепил сежных,\n",
            "как сон мальчишки, внивых дев,\n",
            "иль с который мечты первый,\n",
            "ни судьбу, деревню не могу.\n",
            "к тому ж не ты внуков на сона\n",
            "к нему супруг мой полюбвиц\n",
            "татьяну и собательной,\n",
            "чтоб узнал: но чай не постов?\n",
            "\n",
            "\n",
            "\n",
            "xxvii\n",
            "\n",
            "земел в перед небрег и книго.\n",
            "простите мужены (всем,\n",
            "как лань, тот быль сначая в ленском.\n",
            "вот сбежалась я в тобой?» – «как часто,\n",
            "на свете требую утратой!\n",
            "«не может быть, тот же нет —\n",
            "не мужая будет быва\n"
          ]
        }
      ]
    },
    {
      "cell_type": "code",
      "source": [
        "#torch.save(model.state_dict(), 'gru')\n",
        "#model.load_state_dict(torch.load('/content/gru', weights_only = True))"
      ],
      "metadata": {
        "id": "b8GmBKCp1AFS"
      },
      "execution_count": 56,
      "outputs": []
    },
    {
      "cell_type": "markdown",
      "source": [
        "### GRU + Attention"
      ],
      "metadata": {
        "id": "TdGHfmIwJXpE"
      }
    },
    {
      "cell_type": "code",
      "source": [
        "class Attention(nn.Module):\n",
        "\n",
        "    def __init__(self, embedding_size = N_TOKENS, attention_size = N_TOKENS):\n",
        "        super().__init__()\n",
        "\n",
        "        self.W_Q = nn.Linear(embedding_size, attention_size)\n",
        "        self.W_K = nn.Linear(embedding_size, attention_size)\n",
        "        self.W_V = nn.Linear(embedding_size, attention_size)\n",
        "        self.attention_size = attention_size\n",
        "\n",
        "    def forward(self, X):\n",
        "        Q = self.W_Q(X)\n",
        "        K = self.W_K(X)\n",
        "        V = self.W_V(X)\n",
        "        Z = F.softmax(Q @ K.transpose(1, 2) / (self.attention_size ** 0.5), dim = 1) @ V\n",
        "        return Z\n",
        "\n",
        "class GRU_Attention(nn.Module):\n",
        "\n",
        "    def __init__(self, input_size = N_TOKENS, embedding_size = N_TOKENS, attention_size = N_TOKENS, hidden_size = 256, num_layers = 1, dropout = 0.25):\n",
        "        super().__init__()\n",
        "\n",
        "        self.embedding = nn.Embedding(input_size, embedding_size)\n",
        "        self.attention = Attention(embedding_size, attention_size)\n",
        "        self.dropout = 0.0 if num_layers == 1 else dropout\n",
        "        self.gru = nn.GRU(embedding_size + attention_size, hidden_size, num_layers = num_layers, bidirectional = True, dropout = self.dropout, batch_first = True)\n",
        "        self.decoder = nn.Linear(2 * hidden_size, input_size)\n",
        "\n",
        "    def forward(self, X):\n",
        "        X = self.embedding(X)\n",
        "        Z = self.attention(X)\n",
        "        X = torch.cat((Z, X), dim = 2)\n",
        "        X, hidden = self.gru(X)\n",
        "        X = self.decoder(X)\n",
        "        return X, hidden"
      ],
      "metadata": {
        "id": "Ou4-fZshJdFm"
      },
      "execution_count": 92,
      "outputs": []
    },
    {
      "cell_type": "code",
      "source": [
        "test_attention = Attention().to(device)\n",
        "batch_attn = torch.rand(batch_size, 100, N_TOKENS).to(device)\n",
        "Z = test_attention(batch_attn)\n",
        "print(Z.shape)\n",
        "\n",
        "test_model = GRU_Attention(num_layers = 2).to(device)\n",
        "batch = torch.LongTensor(next(generate_batch())).to(device)\n",
        "input = batch[:, :-1]\n",
        "target = batch[:, -1]\n",
        "output, hidden = test_model(input)\n",
        "print(output.shape, hidden.shape)"
      ],
      "metadata": {
        "colab": {
          "base_uri": "https://localhost:8080/"
        },
        "id": "Irv_s6FF1kcb",
        "outputId": "1f6ea9af-3d44-45f1-b4c2-ae0218fe9337"
      },
      "execution_count": 93,
      "outputs": [
        {
          "output_type": "stream",
          "name": "stdout",
          "text": [
            "torch.Size([256, 100, 84])\n",
            "torch.Size([256, 100, 84]) torch.Size([4, 256, 256])\n"
          ]
        }
      ]
    },
    {
      "cell_type": "code",
      "source": [
        "model = GRU_Attention(num_layers = 2).to(device)\n",
        "criterion = nn.CrossEntropyLoss()\n",
        "optimizer = torch.optim.Adam(model.parameters(), lr = 1e-3)"
      ],
      "metadata": {
        "id": "LPDFx7py65AQ"
      },
      "execution_count": 94,
      "outputs": []
    },
    {
      "cell_type": "code",
      "source": [
        "train(model, optimizer, criterion, n_steps = 5000)\n",
        "optimizer.lr = 3e-4\n",
        "train(model, optimizer, criterion, n_steps = 5000)"
      ],
      "metadata": {
        "colab": {
          "base_uri": "https://localhost:8080/",
          "height": 1000
        },
        "id": "8S5SvUmH60iL",
        "outputId": "0a6c0cf7-2d28-4029-dc67-75fb691097bf"
      },
      "execution_count": 95,
      "outputs": [
        {
          "output_type": "stream",
          "name": "stdout",
          "text": [
            "<sos>зою взлелеян,\n",
            "всегда таков: нахмуря бровь,\n",
            "садился он за клавикорды\n",
            "и брал на них одни аккорды,\n",
            "то,  [' ', ',', '\\n', 'к', '.'] \n",
            "\n",
            "<sos>к ольге взоры устремив,\n",
            "шептал: не правда ль? я счастлив.\n",
            "но поздно; время ехать. сжалось\n",
            "в нем серд ['д', 'ж', 'е', 'к', 'о'] \n",
            "\n",
            "<sos>це, полное тоской;\n",
            "прощаясь с девой молодой,\n",
            "оно как будто разрывалось.\n",
            "она глядит ему в лицо.\n",
            "«что  [' ', ',', '?', '-', 'б'] \n",
            "\n",
            "<sos>с вами?» – «так». – и на крыльцо.\n",
            "\n",
            "\n",
            "\n",
            "xx\n",
            "\n",
            "домой приехав, пистолеты\n",
            "он осмотрел, потом вложил\n",
            "опять их [' ', 'л', 'х', 'н', 'с'] \n",
            "\n",
            "<sos> в ящик и, раздетый,\n",
            "при свечке, шиллера открыл;\n",
            "но мысль одна его объемлет;\n",
            "в нем сердце грустное н ['н', 'е', 'в', 'м', 'у'] \n",
            "\n",
            "100 steps average loss 0.9898949453178147\n"
          ]
        },
        {
          "output_type": "display_data",
          "data": {
            "text/plain": [
              "<Figure size 640x480 with 1 Axes>"
            ],
            "image/png": "[encoded data removed]"
          },
          "metadata": {}
        },
        {
          "output_type": "stream",
          "name": "stderr",
          "text": [
            "100%|██████████| 5000/5000 [10:37<00:00,  7.84it/s]\n"
          ]
        }
      ]
    },
    {
      "cell_type": "code",
      "source": [
        "print(generate_sample(model, ' мой дядя самых честных правил,', max_length = 500, temperature = 0.8))"
      ],
      "metadata": {
        "colab": {
          "base_uri": "https://localhost:8080/"
        },
        "id": "WUMJvVXqAAOM",
        "outputId": "06a17ac2-e51a-4bff-c7e1-7eb8571847f6"
      },
      "execution_count": 96,
      "outputs": [
        {
          "output_type": "stream",
          "name": "stdout",
          "text": [
            "<sos> мой дядя самых честных правил,\n",
            "и помелит… им обедам,\n",
            "и он москва над ней одну;\n",
            "но нейдесь оставил… сколько родне\n",
            "стремлится просит пора;\n",
            "господский жизни барышней\n",
            "забыт и гордо стол окруженный\n",
            "и блажен, красный мой обедом,\n",
            "разливающий, при вкром,\n",
            "и всё глуши младенческим обман\n",
            "и завставах мне евгений,\n",
            "и вприятный ждет: вот катилась\n",
            "вы, как их затей отдаю.\n",
            "теперь хвандик и слова:\n",
            "сидит он оставил столина\n",
            "с лирах шарю друго ль друзья?\n",
            "где беготня отдвору,\n",
            "про святым сердцем был когда,\n",
            "без гордым\n"
          ]
        }
      ]
    },
    {
      "cell_type": "code",
      "source": [
        "train(model, optimizer, criterion, n_steps = 5000)"
      ],
      "metadata": {
        "colab": {
          "base_uri": "https://localhost:8080/",
          "height": 1000
        },
        "id": "BWtJ2BC4AGv-",
        "outputId": "5f8f38f9-1e48-4f6c-c7e3-78549c9ae74f"
      },
      "execution_count": 97,
      "outputs": [
        {
          "output_type": "stream",
          "name": "stdout",
          "text": [
            "<sos> прощай, онегин, мне пора.\n",
            "«я не держу тебя; но где ты\n",
            "свои проводишь вечера?»\n",
            "– у лариных. – «вот э ['н', 'о', 'с', 'б', 'е'] \n",
            "\n",
            "<sos>то чудно.\n",
            "помилуй! и тебе не трудно\n",
            "там каждый вечер убивать?»\n",
            "– нимало. – «не могу понять.\n",
            "отселе в ['т', 'п', 'в', 'г', 'д'] \n",
            "\n",
            "<sos>ижу, что такое:\n",
            "во-первых (слушай, прав ли я?),\n",
            "простая, русская семья,\n",
            "к гостям усердие большое,\n",
            "ва ['о', ' ', 'с', 'л', 'е'] \n",
            "\n",
            "<sos>ренье, вечный разговор\n",
            "про дождь, про лён, про скотный двор…»\n",
            "\n",
            "\n",
            "\n",
            "ii\n",
            "\n",
            "– я тут еще беды не вижу.\n",
            "«да с ['п', 'с', 'ч', 'к', 'в'] \n",
            "\n",
            "<sos>кука, вот беда, мой друг».\n",
            "– я модный свет ваш ненавижу;\n",
            "милее мне домашний круг,\n",
            "где я могу… – «опя ['я', 'а', 'и', 'р', 'т'] \n",
            "\n",
            "100 steps average loss 0.9183779427370686\n"
          ]
        },
        {
          "output_type": "display_data",
          "data": {
            "text/plain": [
              "<Figure size 640x480 with 1 Axes>"
            ],
            "image/png": "[encoded data removed]"
          },
          "metadata": {}
        },
        {
          "output_type": "stream",
          "name": "stderr",
          "text": [
            "100%|██████████| 5000/5000 [10:38<00:00,  7.83it/s]\n"
          ]
        }
      ]
    },
    {
      "cell_type": "code",
      "source": [
        "print(generate_sample(model, ' мой дядя самых честных правил,', max_length = 500, temperature = 0.2))"
      ],
      "metadata": {
        "colab": {
          "base_uri": "https://localhost:8080/"
        },
        "id": "_AYNkZ_GDAHX",
        "outputId": "2b0a0066-be2c-4f9a-8cdc-f44c1343e596"
      },
      "execution_count": 105,
      "outputs": [
        {
          "output_type": "stream",
          "name": "stdout",
          "text": [
            "<sos> мой дядя самых честных правил,\n",
            "что подал бы изменилось!\n",
            "как вечер. нет, никогда, нет безотрадной\n",
            "картины слово кушал,\n",
            "подобня предан во снегой\n",
            "в то вдет в долго о том, о том,\n",
            "какой судит со всех суждений,\n",
            "и слов и мыслей модный взгляд,\n",
            "перед хозяйки нам писать.\n",
            "\n",
            "\n",
            "\n",
            "xxxi\n",
            "\n",
            "как он, она подасти\n",
            "сей флей подобен пустынный день,\n",
            "о том не видя ничего —\n",
            "вот от трепету голову;\n",
            "да то, кто в скука сердцу грустно,\n",
            "и записки надежды милой\n",
            "увязнет наших судьбой,\n",
            "москва мертвого под каблуком,\n",
            "всё тот же скуку\n"
          ]
        }
      ]
    }
  ],
  "metadata": {
    "anaconda-cloud": {},
    "colab": {
      "provenance": [],
      "gpuType": "T4",
      "include_colab_link": true
    },
    "kernelspec": {
      "display_name": "Py3 Research",
      "language": "python",
      "name": "py3_research"
    },
    "language_info": {
      "codemirror_mode": {
        "name": "ipython",
        "version": 3
      },
      "file_extension": ".py",
      "mimetype": "text/x-python",
      "name": "python",
      "nbconvert_exporter": "python",
      "pygments_lexer": "ipython3",
      "version": "3.7.10"
    },
    "accelerator": "GPU"
  },
  "nbformat": 4,
  "nbformat_minor": 0
}