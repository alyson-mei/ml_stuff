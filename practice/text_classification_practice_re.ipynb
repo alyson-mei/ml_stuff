{
  "cells": [
    {
      "cell_type": "markdown",
      "metadata": {
        "id": "view-in-github",
        "colab_type": "text"
      },
      "source": [
        "<a href=\"https://colab.research.google.com/github/alyson-mei/ml_stuff/blob/main/practice/text_classification_practice_re.ipynb\" target=\"_parent\"><img src=\"https://colab.research.google.com/assets/colab-badge.svg\" alt=\"Open In Colab\"/></a>"
      ]
    },
    {
      "cell_type": "markdown",
      "metadata": {
        "id": "NoLCTlfLpYj6"
      },
      "source": [
        "## Setup"
      ]
    },
    {
      "cell_type": "code",
      "execution_count": 24,
      "metadata": {
        "id": "DSe054Sypg8x"
      },
      "outputs": [],
      "source": [
        "import random\n",
        "\n",
        "import numpy as np\n",
        "import pandas as pd\n",
        "from matplotlib import pyplot as plt\n",
        "\n",
        "import torch\n",
        "from torch import nn\n",
        "import torch.optim as optim\n",
        "import torch.nn.functional as F\n",
        "from torch.utils.data import Dataset, DataLoader\n",
        "from torch.nn import TransformerEncoder, TransformerEncoderLayer\n",
        "from torch.nn.utils.rnn import pad_sequence\n",
        "\n",
        "from nltk.tokenize import WordPunctTokenizer\n",
        "\n",
        "from IPython.display import clear_output\n",
        "from sklearn.metrics import accuracy_score, roc_auc_score\n",
        "from tqdm import tqdm\n",
        "\n",
        "DEVICE = torch.device(\"cuda\" if torch.cuda.is_available() else \"cpu\")"
      ]
    },
    {
      "cell_type": "code",
      "execution_count": 25,
      "metadata": {
        "colab": {
          "base_uri": "https://localhost:8080/"
        },
        "id": "xZMJRYNHqhU4",
        "outputId": "8ea0c084-847d-4ebc-a739-b8c9744b82ee"
      },
      "outputs": [
        {
          "output_type": "stream",
          "name": "stdout",
          "text": [
            "--2025-04-05 20:40:38--  https://raw.githubusercontent.com/girafe-ai/ml-course/refs/heads/24f_yandex_ml_trainings/homeworks/hw04_bert_and_co/texts_holdout.json\n",
            "Resolving raw.githubusercontent.com (raw.githubusercontent.com)... 185.199.108.133, 185.199.109.133, 185.199.110.133, ...\n",
            "Connecting to raw.githubusercontent.com (raw.githubusercontent.com)|185.199.108.133|:443... connected.\n",
            "HTTP request sent, awaiting response... 200 OK\n",
            "Length: 51581 (50K) [text/plain]\n",
            "Saving to: ‘texts_holdout.json.1’\n",
            "\n",
            "\rtexts_holdout.json.   0%[                    ]       0  --.-KB/s               \rtexts_holdout.json. 100%[===================>]  50.37K  --.-KB/s    in 0.009s  \n",
            "\n",
            "2025-04-05 20:40:38 (5.72 MB/s) - ‘texts_holdout.json.1’ saved [51581/51581]\n",
            "\n"
          ]
        }
      ],
      "source": [
        "!wget https://raw.githubusercontent.com/girafe-ai/ml-course/refs/heads/24f_yandex_ml_trainings/homeworks/hw04_bert_and_co/texts_holdout.json"
      ]
    },
    {
      "cell_type": "code",
      "execution_count": 26,
      "metadata": {
        "colab": {
          "base_uri": "https://localhost:8080/",
          "height": 223
        },
        "id": "A6Mhcgkrqubk",
        "outputId": "7f713b2b-f41f-40d0-a30c-8c9d273045c3"
      },
      "outputs": [
        {
          "output_type": "stream",
          "name": "stdout",
          "text": [
            "6920\n"
          ]
        },
        {
          "output_type": "execute_result",
          "data": {
            "text/plain": [
              "                                                   0  1\n",
              "0  a stirring , funny and finally transporting re...  1\n",
              "1  apparently reassembled from the cutting room f...  0\n",
              "2  they presume their audience wo n't sit still f...  0\n",
              "3  this is a visually stunning rumination on love...  1\n",
              "4  jonathan parker 's bartleby should have been t...  1"
            ],
            "text/html": [
              "\n",
              "  <div id=\"df-a2e54916-8e63-4393-92bf-812079a74143\" class=\"colab-df-container\">\n",
              "    <div>\n",
              "<style scoped>\n",
              "    .dataframe tbody tr th:only-of-type {\n",
              "        vertical-align: middle;\n",
              "    }\n",
              "\n",
              "    .dataframe tbody tr th {\n",
              "        vertical-align: top;\n",
              "    }\n",
              "\n",
              "    .dataframe thead th {\n",
              "        text-align: right;\n",
              "    }\n",
              "</style>\n",
              "<table border=\"1\" class=\"dataframe\">\n",
              "  <thead>\n",
              "    <tr style=\"text-align: right;\">\n",
              "      <th></th>\n",
              "      <th>0</th>\n",
              "      <th>1</th>\n",
              "    </tr>\n",
              "  </thead>\n",
              "  <tbody>\n",
              "    <tr>\n",
              "      <th>0</th>\n",
              "      <td>a stirring , funny and finally transporting re...</td>\n",
              "      <td>1</td>\n",
              "    </tr>\n",
              "    <tr>\n",
              "      <th>1</th>\n",
              "      <td>apparently reassembled from the cutting room f...</td>\n",
              "      <td>0</td>\n",
              "    </tr>\n",
              "    <tr>\n",
              "      <th>2</th>\n",
              "      <td>they presume their audience wo n't sit still f...</td>\n",
              "      <td>0</td>\n",
              "    </tr>\n",
              "    <tr>\n",
              "      <th>3</th>\n",
              "      <td>this is a visually stunning rumination on love...</td>\n",
              "      <td>1</td>\n",
              "    </tr>\n",
              "    <tr>\n",
              "      <th>4</th>\n",
              "      <td>jonathan parker 's bartleby should have been t...</td>\n",
              "      <td>1</td>\n",
              "    </tr>\n",
              "  </tbody>\n",
              "</table>\n",
              "</div>\n",
              "    <div class=\"colab-df-buttons\">\n",
              "\n",
              "  <div class=\"colab-df-container\">\n",
              "    <button class=\"colab-df-convert\" onclick=\"convertToInteractive('df-a2e54916-8e63-4393-92bf-812079a74143')\"\n",
              "            title=\"Convert this dataframe to an interactive table.\"\n",
              "            style=\"display:none;\">\n",
              "\n",
              "  <svg xmlns=\"http://www.w3.org/2000/svg\" height=\"24px\" viewBox=\"0 -960 960 960\">\n",
              "    <path d=\"M120-120v-720h720v720H120Zm60-500h600v-160H180v160Zm220 220h160v-160H400v160Zm0 220h160v-160H400v160ZM180-400h160v-160H180v160Zm440 0h160v-160H620v160ZM180-180h160v-160H180v160Zm440 0h160v-160H620v160Z\"/>\n",
              "  </svg>\n",
              "    </button>\n",
              "\n",
              "  <style>\n",
              "    .colab-df-container {\n",
              "      display:flex;\n",
              "      gap: 12px;\n",
              "    }\n",
              "\n",
              "    .colab-df-convert {\n",
              "      background-color: #E8F0FE;\n",
              "      border: none;\n",
              "      border-radius: 50%;\n",
              "      cursor: pointer;\n",
              "      display: none;\n",
              "      fill: #1967D2;\n",
              "      height: 32px;\n",
              "      padding: 0 0 0 0;\n",
              "      width: 32px;\n",
              "    }\n",
              "\n",
              "    .colab-df-convert:hover {\n",
              "      background-color: #E2EBFA;\n",
              "      box-shadow: 0px 1px 2px rgba(60, 64, 67, 0.3), 0px 1px 3px 1px rgba(60, 64, 67, 0.15);\n",
              "      fill: #174EA6;\n",
              "    }\n",
              "\n",
              "    .colab-df-buttons div {\n",
              "      margin-bottom: 4px;\n",
              "    }\n",
              "\n",
              "    [theme=dark] .colab-df-convert {\n",
              "      background-color: #3B4455;\n",
              "      fill: #D2E3FC;\n",
              "    }\n",
              "\n",
              "    [theme=dark] .colab-df-convert:hover {\n",
              "      background-color: #434B5C;\n",
              "      box-shadow: 0px 1px 3px 1px rgba(0, 0, 0, 0.15);\n",
              "      filter: drop-shadow(0px 1px 2px rgba(0, 0, 0, 0.3));\n",
              "      fill: #FFFFFF;\n",
              "    }\n",
              "  </style>\n",
              "\n",
              "    <script>\n",
              "      const buttonEl =\n",
              "        document.querySelector('#df-a2e54916-8e63-4393-92bf-812079a74143 button.colab-df-convert');\n",
              "      buttonEl.style.display =\n",
              "        google.colab.kernel.accessAllowed ? 'block' : 'none';\n",
              "\n",
              "      async function convertToInteractive(key) {\n",
              "        const element = document.querySelector('#df-a2e54916-8e63-4393-92bf-812079a74143');\n",
              "        const dataTable =\n",
              "          await google.colab.kernel.invokeFunction('convertToInteractive',\n",
              "                                                    [key], {});\n",
              "        if (!dataTable) return;\n",
              "\n",
              "        const docLinkHtml = 'Like what you see? Visit the ' +\n",
              "          '<a target=\"_blank\" href=https://colab.research.google.com/notebooks/data_table.ipynb>data table notebook</a>'\n",
              "          + ' to learn more about interactive tables.';\n",
              "        element.innerHTML = '';\n",
              "        dataTable['output_type'] = 'display_data';\n",
              "        await google.colab.output.renderOutput(dataTable, element);\n",
              "        const docLink = document.createElement('div');\n",
              "        docLink.innerHTML = docLinkHtml;\n",
              "        element.appendChild(docLink);\n",
              "      }\n",
              "    </script>\n",
              "  </div>\n",
              "\n",
              "\n",
              "<div id=\"df-68c74e1e-b086-49cc-9811-e65a928bc720\">\n",
              "  <button class=\"colab-df-quickchart\" onclick=\"quickchart('df-68c74e1e-b086-49cc-9811-e65a928bc720')\"\n",
              "            title=\"Suggest charts\"\n",
              "            style=\"display:none;\">\n",
              "\n",
              "<svg xmlns=\"http://www.w3.org/2000/svg\" height=\"24px\"viewBox=\"0 0 24 24\"\n",
              "     width=\"24px\">\n",
              "    <g>\n",
              "        <path d=\"M19 3H5c-1.1 0-2 .9-2 2v14c0 1.1.9 2 2 2h14c1.1 0 2-.9 2-2V5c0-1.1-.9-2-2-2zM9 17H7v-7h2v7zm4 0h-2V7h2v10zm4 0h-2v-4h2v4z\"/>\n",
              "    </g>\n",
              "</svg>\n",
              "  </button>\n",
              "\n",
              "<style>\n",
              "  .colab-df-quickchart {\n",
              "      --bg-color: #E8F0FE;\n",
              "      --fill-color: #1967D2;\n",
              "      --hover-bg-color: #E2EBFA;\n",
              "      --hover-fill-color: #174EA6;\n",
              "      --disabled-fill-color: #AAA;\n",
              "      --disabled-bg-color: #DDD;\n",
              "  }\n",
              "\n",
              "  [theme=dark] .colab-df-quickchart {\n",
              "      --bg-color: #3B4455;\n",
              "      --fill-color: #D2E3FC;\n",
              "      --hover-bg-color: #434B5C;\n",
              "      --hover-fill-color: #FFFFFF;\n",
              "      --disabled-bg-color: #3B4455;\n",
              "      --disabled-fill-color: #666;\n",
              "  }\n",
              "\n",
              "  .colab-df-quickchart {\n",
              "    background-color: var(--bg-color);\n",
              "    border: none;\n",
              "    border-radius: 50%;\n",
              "    cursor: pointer;\n",
              "    display: none;\n",
              "    fill: var(--fill-color);\n",
              "    height: 32px;\n",
              "    padding: 0;\n",
              "    width: 32px;\n",
              "  }\n",
              "\n",
              "  .colab-df-quickchart:hover {\n",
              "    background-color: var(--hover-bg-color);\n",
              "    box-shadow: 0 1px 2px rgba(60, 64, 67, 0.3), 0 1px 3px 1px rgba(60, 64, 67, 0.15);\n",
              "    fill: var(--button-hover-fill-color);\n",
              "  }\n",
              "\n",
              "  .colab-df-quickchart-complete:disabled,\n",
              "  .colab-df-quickchart-complete:disabled:hover {\n",
              "    background-color: var(--disabled-bg-color);\n",
              "    fill: var(--disabled-fill-color);\n",
              "    box-shadow: none;\n",
              "  }\n",
              "\n",
              "  .colab-df-spinner {\n",
              "    border: 2px solid var(--fill-color);\n",
              "    border-color: transparent;\n",
              "    border-bottom-color: var(--fill-color);\n",
              "    animation:\n",
              "      spin 1s steps(1) infinite;\n",
              "  }\n",
              "\n",
              "  @keyframes spin {\n",
              "    0% {\n",
              "      border-color: transparent;\n",
              "      border-bottom-color: var(--fill-color);\n",
              "      border-left-color: var(--fill-color);\n",
              "    }\n",
              "    20% {\n",
              "      border-color: transparent;\n",
              "      border-left-color: var(--fill-color);\n",
              "      border-top-color: var(--fill-color);\n",
              "    }\n",
              "    30% {\n",
              "      border-color: transparent;\n",
              "      border-left-color: var(--fill-color);\n",
              "      border-top-color: var(--fill-color);\n",
              "      border-right-color: var(--fill-color);\n",
              "    }\n",
              "    40% {\n",
              "      border-color: transparent;\n",
              "      border-right-color: var(--fill-color);\n",
              "      border-top-color: var(--fill-color);\n",
              "    }\n",
              "    60% {\n",
              "      border-color: transparent;\n",
              "      border-right-color: var(--fill-color);\n",
              "    }\n",
              "    80% {\n",
              "      border-color: transparent;\n",
              "      border-right-color: var(--fill-color);\n",
              "      border-bottom-color: var(--fill-color);\n",
              "    }\n",
              "    90% {\n",
              "      border-color: transparent;\n",
              "      border-bottom-color: var(--fill-color);\n",
              "    }\n",
              "  }\n",
              "</style>\n",
              "\n",
              "  <script>\n",
              "    async function quickchart(key) {\n",
              "      const quickchartButtonEl =\n",
              "        document.querySelector('#' + key + ' button');\n",
              "      quickchartButtonEl.disabled = true;  // To prevent multiple clicks.\n",
              "      quickchartButtonEl.classList.add('colab-df-spinner');\n",
              "      try {\n",
              "        const charts = await google.colab.kernel.invokeFunction(\n",
              "            'suggestCharts', [key], {});\n",
              "      } catch (error) {\n",
              "        console.error('Error during call to suggestCharts:', error);\n",
              "      }\n",
              "      quickchartButtonEl.classList.remove('colab-df-spinner');\n",
              "      quickchartButtonEl.classList.add('colab-df-quickchart-complete');\n",
              "    }\n",
              "    (() => {\n",
              "      let quickchartButtonEl =\n",
              "        document.querySelector('#df-68c74e1e-b086-49cc-9811-e65a928bc720 button');\n",
              "      quickchartButtonEl.style.display =\n",
              "        google.colab.kernel.accessAllowed ? 'block' : 'none';\n",
              "    })();\n",
              "  </script>\n",
              "</div>\n",
              "    </div>\n",
              "  </div>\n"
            ],
            "application/vnd.google.colaboratory.intrinsic+json": {
              "type": "dataframe",
              "variable_name": "df",
              "summary": "{\n  \"name\": \"df\",\n  \"rows\": 6920,\n  \"fields\": [\n    {\n      \"column\": 0,\n      \"properties\": {\n        \"dtype\": \"string\",\n        \"num_unique_values\": 6911,\n        \"samples\": [\n          \"a loud , brash and mainly unfunny high school comedy\",\n          \"the real star of this movie is the score , as in the songs translate well to film , and it 's really well directed\",\n          \"rosenthal lrb halloween ii rrb seems to have forgotten everything he ever knew about generating suspense\"\n        ],\n        \"semantic_type\": \"\",\n        \"description\": \"\"\n      }\n    },\n    {\n      \"column\": 1,\n      \"properties\": {\n        \"dtype\": \"number\",\n        \"std\": 0,\n        \"min\": 0,\n        \"max\": 1,\n        \"num_unique_values\": 2,\n        \"samples\": [\n          0,\n          1\n        ],\n        \"semantic_type\": \"\",\n        \"description\": \"\"\n      }\n    }\n  ]\n}"
            }
          },
          "metadata": {},
          "execution_count": 26
        }
      ],
      "source": [
        "df = pd.read_csv(\n",
        "    \"https://github.com/clairett/pytorch-sentiment-classification/raw/master/data/SST2/train.tsv\",\n",
        "    delimiter = \"\\t\",\n",
        "    header = None\n",
        ")\n",
        "print(len(df))\n",
        "df.head()"
      ]
    },
    {
      "cell_type": "code",
      "execution_count": 27,
      "metadata": {
        "id": "2LRie2OArU9m"
      },
      "outputs": [],
      "source": [
        "N = 500\n",
        "texts_train, y_train = df[0].values[:-N], list(map(int, df[1].values[:-N]))\n",
        "texts_test, y_test = df[0].values[-N:], list(map(int, df[1].values[-N:]))"
      ]
    },
    {
      "cell_type": "markdown",
      "metadata": {
        "id": "UK3EP9h0saO_"
      },
      "source": [
        "## Preprocessing"
      ]
    },
    {
      "cell_type": "markdown",
      "metadata": {
        "id": "J4DcUymDvOw7"
      },
      "source": [
        "### Lang + auxiliary tokens"
      ]
    },
    {
      "cell_type": "code",
      "execution_count": 28,
      "metadata": {
        "id": "mXqB7ajfvmG1"
      },
      "outputs": [],
      "source": [
        "UNK, UNK_IDX = '<UNK>', 0\n",
        "PAD, PAD_IDX = '<PAD>', 1\n",
        "\n",
        "class Lang:\n",
        "    def __init__(self, name, tokenize):\n",
        "        self.name = name\n",
        "        self.word2count = {}\n",
        "        self.word2index = {UNK: UNK_IDX, PAD: PAD_IDX}\n",
        "        self.index2word = {UNK_IDX: UNK, PAD_IDX: PAD}\n",
        "        self.n_tokens = 2\n",
        "        self.n_tokens_trimmed = self.n_tokens\n",
        "        self.tokenize = tokenize\n",
        "\n",
        "    def addSentence(self, sentence):\n",
        "        for token in self.tokenize(sentence):\n",
        "            self.addWord(token)\n",
        "\n",
        "    def addWord(self, token):\n",
        "        if token not in self.word2index:\n",
        "            self.word2count[token] = 1\n",
        "            self.word2index[token] = self.n_tokens\n",
        "            self.index2word[self.n_tokens] = token\n",
        "            self.n_tokens += 1\n",
        "            self.n_tokens_trimmed += 1\n",
        "        else:\n",
        "            self.word2count[token] += 1\n",
        "\n",
        "    def trimDict(self, min_freq = 3):\n",
        "        for token in self.word2count:\n",
        "            if self.word2count[token] < min_freq:\n",
        "                self.word2index[token] = UNK_IDX\n",
        "                self.n_tokens_trimmed -= 1\n",
        "\n",
        "    def normalizeWord2Index(self):\n",
        "        idx = 2\n",
        "        word2index = {UNK: UNK_IDX, PAD: PAD_IDX}\n",
        "        index2word = {UNK_IDX: UNK, PAD_IDX: PAD}\n",
        "        for token in self.word2count:\n",
        "            if self.word2index[token] != UNK_IDX:\n",
        "                word2index[token] = idx\n",
        "                index2word[idx] = token\n",
        "                idx += 1\n",
        "            else:\n",
        "                word2index[token] = UNK_IDX\n",
        "        self.word2index = word2index\n",
        "        self.index2word = index2word"
      ]
    },
    {
      "cell_type": "code",
      "execution_count": 29,
      "metadata": {
        "colab": {
          "base_uri": "https://localhost:8080/"
        },
        "id": "tSHuco8kywBv",
        "outputId": "344465de-c84f-43c3-cc82-b94080bd845e"
      },
      "outputs": [
        {
          "output_type": "stream",
          "name": "stderr",
          "text": [
            "100%|██████████| 6420/6420 [00:00<00:00, 93314.31it/s]\n",
            "100%|██████████| 500/500 [00:00<00:00, 80693.83it/s]"
          ]
        },
        {
          "output_type": "stream",
          "name": "stdout",
          "text": [
            "\n",
            "Initial vocab size: 13829, trimmed vocab size: 7200\n"
          ]
        },
        {
          "output_type": "stream",
          "name": "stderr",
          "text": [
            "\n"
          ]
        }
      ],
      "source": [
        "tokenizer = WordPunctTokenizer()\n",
        "tokenize = tokenizer.tokenize\n",
        "lang = Lang(\"src\", tokenize)\n",
        "\n",
        "for sent in tqdm(texts_train):\n",
        "     lang.addSentence(sent)\n",
        "for sent in tqdm(texts_test):\n",
        "     lang.addSentence(sent)\n",
        "\n",
        "lang.trimDict(min_freq = 2)\n",
        "lang.normalizeWord2Index()\n",
        "print(f'\\nInitial vocab size: {lang.n_tokens}, trimmed vocab size: {lang.n_tokens_trimmed}')\n",
        "\n",
        "VOC_SIZE = lang.n_tokens_trimmed"
      ]
    },
    {
      "cell_type": "markdown",
      "metadata": {
        "id": "40hqnKvV0m4s"
      },
      "source": [
        "### Indexing"
      ]
    },
    {
      "cell_type": "code",
      "execution_count": 30,
      "metadata": {
        "id": "Dvp-Cmnl0GBa"
      },
      "outputs": [],
      "source": [
        "def indexing(sentence):\n",
        "    tokens = tokenizer.tokenize(sentence.lower())\n",
        "    return [lang.word2index.get(token, UNK_IDX) for token in tokens]\n",
        "\n",
        "def translate(indexed):\n",
        "    return [lang.index2word.get(idx, UNK) for idx in indexed]"
      ]
    },
    {
      "cell_type": "code",
      "execution_count": 31,
      "metadata": {
        "colab": {
          "base_uri": "https://localhost:8080/"
        },
        "id": "OKaBOmtZ1xH_",
        "outputId": "284dbd17-752d-45d9-b07e-40c98ee95113"
      },
      "outputs": [
        {
          "output_type": "stream",
          "name": "stdout",
          "text": [
            "a stirring , funny and finally transporting re imagining of beauty and the beast and 1930s horror films,\n",
            " [2, 3, 4, 5, 6, 7, 8, 9, 0, 10, 11, 6, 12, 13, 6, 0, 14, 15],\n",
            " ['a', 'stirring', ',', 'funny', 'and', 'finally', 'transporting', 're', '<UNK>', 'of', 'beauty', 'and', 'the', 'beast', 'and', '<UNK>', 'horror', 'films']\n"
          ]
        }
      ],
      "source": [
        "sentence = texts_train[0]\n",
        "\n",
        "indexed = indexing(sentence)\n",
        "translated = translate(indexed)\n",
        "\n",
        "print(f'{sentence},\\n {indexed},\\n {translated}')"
      ]
    },
    {
      "cell_type": "code",
      "execution_count": 32,
      "metadata": {
        "id": "8lI-yH6K3t4k"
      },
      "outputs": [],
      "source": [
        "def indexingData(data, test = False):\n",
        "    indexed_data = []\n",
        "    return [indexing(text) for text in data]"
      ]
    },
    {
      "cell_type": "code",
      "execution_count": 33,
      "metadata": {
        "id": "m0iLM0Rf3yar"
      },
      "outputs": [],
      "source": [
        "indexed_train_data = indexingData(texts_train)\n",
        "indexed_test_data = indexingData(texts_test)"
      ]
    },
    {
      "cell_type": "code",
      "execution_count": 34,
      "metadata": {
        "colab": {
          "base_uri": "https://localhost:8080/"
        },
        "id": "oZzCTW-R-Rx6",
        "outputId": "13643c3a-4d38-43f1-ee3e-95e1001773b1"
      },
      "outputs": [
        {
          "output_type": "stream",
          "name": "stdout",
          "text": [
            "\n",
            "Sample 1:\n",
            "Label: 1\n",
            "Original: a stirring , funny and finally transporting re imagining of beauty and the beast and 1930s horror films\n",
            "Indexed: [2, 3, 4, 5, 6, 7, 8, 9, 0, 10, 11, 6, 12, 13, 6, 0, 14, 15]\n",
            "Translated: a stirring , funny and finally transporting re <UNK> of beauty and the beast and <UNK> horror films\n",
            "\n",
            "Sample 2:\n",
            "Label: 0\n",
            "Original: apparently reassembled from the cutting room floor of any given daytime soap\n",
            "Indexed: [16, 0, 17, 12, 18, 19, 20, 10, 21, 22, 23, 24]\n",
            "Translated: apparently <UNK> from the cutting room floor of any given daytime soap\n",
            "\n",
            "Sample 3:\n",
            "Label: 0\n",
            "Original: they presume their audience wo n't sit still for a sociology lesson , however entertainingly presented , so they trot out the conventional science fiction elements of bug eyed monsters and futuristic women in skimpy clothes\n",
            "Indexed: [25, 0, 26, 27, 28, 29, 30, 31, 32, 33, 34, 2, 35, 36, 4, 37, 38, 39, 4, 40, 25, 0, 41, 12, 42, 43, 44, 45, 10, 46, 47, 48, 6, 49, 50, 51, 0, 52]\n",
            "Translated: they <UNK> their audience wo n ' t sit still for a sociology lesson , however entertainingly presented , so they <UNK> out the conventional science fiction elements of bug eyed monsters and futuristic women in <UNK> clothes\n"
          ]
        }
      ],
      "source": [
        "for i in range(3):\n",
        "    print(f\"\\nSample {i+1}:\")\n",
        "    print(f\"Label: {y_train[i]}\")\n",
        "    print(f\"Original: {texts_train[i]}\")\n",
        "    print(f\"Indexed: {indexed_train_data[i]}\")\n",
        "    print(f\"Translated: {' '.join(translate(indexed_train_data[i]))}\")"
      ]
    },
    {
      "cell_type": "markdown",
      "metadata": {
        "id": "Rj4XG9PT3P8R"
      },
      "source": [
        "### Making batches"
      ]
    },
    {
      "cell_type": "code",
      "execution_count": 35,
      "metadata": {
        "colab": {
          "base_uri": "https://localhost:8080/"
        },
        "id": "AIJZHY1Qzqts",
        "outputId": "30373237-ec3e-4e4d-b537-18bfe3b6172e"
      },
      "outputs": [
        {
          "output_type": "execute_result",
          "data": {
            "text/plain": [
              "(tensor([[ 321, 1979,  403,  ...,    1,    1,    1],\n",
              "         [  53,   54,   12,  ...,    1,    1,    1],\n",
              "         [ 160,   30,   68,  ...,    1,    1,    1],\n",
              "         ...,\n",
              "         [ 219,  871, 2942,  ...,    1,    1,    1],\n",
              "         [   0,   30,   68,  ...,    1,    1,    1],\n",
              "         [6025,    4,   12,  ...,    1,    1,    1]]),\n",
              " tensor([0, 0, 0, 0, 0, 1, 1, 1, 1, 1, 1, 1, 1, 0, 1, 0, 0, 1, 1, 1, 1, 1, 1, 0,\n",
              "         0, 0, 1, 1, 1, 1, 1, 1, 0, 1, 1, 1, 1, 1, 1, 1, 0, 0, 0, 0, 0, 1, 1, 0,\n",
              "         1, 0, 1, 0, 1, 1, 1, 1, 1, 1, 0, 1, 1, 0, 1, 1, 0, 0, 0, 1, 1, 1, 0, 0,\n",
              "         1, 1, 0, 0, 0, 0, 0, 1, 0, 0, 0, 1, 1, 0, 0, 1, 0, 0, 1, 1, 1, 1, 0, 1,\n",
              "         0, 0, 0, 1, 1, 0, 0, 1, 1, 1, 1, 1, 1, 1, 0, 0, 1, 1, 1, 0, 1, 0, 0, 0,\n",
              "         1, 0, 0, 1, 0, 0, 0, 0, 1, 1, 0, 0, 0, 1, 1, 1, 0, 0, 1, 0, 1, 1, 0, 1,\n",
              "         0, 0, 1, 0, 1, 0, 0, 1, 1, 1, 0, 0, 1, 1, 1, 0, 1, 0, 1, 1, 0, 1, 1, 1,\n",
              "         1, 1, 0, 1, 1, 0, 0, 0, 0, 0, 1, 0, 1, 1, 1, 0, 1, 0, 0, 0, 0, 0, 0, 0,\n",
              "         0, 1, 1, 1, 1, 1, 1, 1, 1, 0, 0, 1, 0, 0, 0, 0, 1, 1, 0, 0, 1, 0, 0, 0,\n",
              "         1, 0, 1, 0, 0, 0, 0, 0, 0, 0, 1, 0, 1, 0, 0, 1, 1, 0, 0, 0, 0, 1, 1, 1,\n",
              "         0, 0, 0, 1, 1, 1, 1, 0, 1, 1, 1, 1, 0, 1, 1, 0]))"
            ]
          },
          "metadata": {},
          "execution_count": 35
        }
      ],
      "source": [
        "BATCH_SIZE = 256\n",
        "\n",
        "from torch.utils.data import TensorDataset, DataLoader\n",
        "from torch.nn.utils.rnn import pad_sequence\n",
        "\n",
        "def simple_collate(batch):\n",
        "    inputs = [torch.tensor(x[0], dtype = torch.long) for x in batch]\n",
        "    labels = torch.tensor([x[1] for x in batch])\n",
        "\n",
        "    padded_inputs = pad_sequence(inputs, batch_first = True, padding_value = PAD_IDX)\n",
        "    return padded_inputs, labels\n",
        "\n",
        "train_data = list(zip(indexed_train_data, y_train))\n",
        "test_data = list(zip(indexed_test_data, y_test))\n",
        "\n",
        "train_loader = DataLoader(\n",
        "    train_data,\n",
        "    batch_size = BATCH_SIZE,\n",
        "    shuffle = True,\n",
        "    collate_fn = simple_collate\n",
        ")\n",
        "\n",
        "test_loader = DataLoader(\n",
        "    test_data,\n",
        "    batch_size = BATCH_SIZE,\n",
        "    shuffle = False,\n",
        "    collate_fn = simple_collate\n",
        ")\n",
        "\n",
        "next(iter(train_loader))"
      ]
    },
    {
      "cell_type": "markdown",
      "metadata": {
        "id": "9xV_B1cVBBsA"
      },
      "source": [
        "### Train"
      ]
    },
    {
      "cell_type": "code",
      "execution_count": 36,
      "metadata": {
        "id": "UiVUZPShQy_t"
      },
      "outputs": [],
      "source": [
        "def train(\n",
        "    model,\n",
        "    train_loader,\n",
        "    test_loader,\n",
        "    epochs = 30,\n",
        "    device = DEVICE,\n",
        "    model_name = \"GRU\"\n",
        "    ):\n",
        "\n",
        "    train_loss_history = []\n",
        "    val_loss_history = []\n",
        "    train_acc_history = []\n",
        "    val_acc_history = []\n",
        "\n",
        "    for epoch in tqdm(range(epochs)):\n",
        "        train_loss, train_acc = train_epoch(model, train_loader)\n",
        "        val_loss, val_acc = evaluate(model, test_loader)\n",
        "\n",
        "        train_loss_history.append(train_loss)\n",
        "        val_loss_history.append(val_loss)\n",
        "        train_acc_history.append(train_acc)\n",
        "        val_acc_history.append(val_acc)\n",
        "\n",
        "        print(f\"\\nEpoch {epoch+1}/{epochs}:\")\n",
        "        print(f\"Train Loss: {train_loss:} | Val Loss: {val_loss}\")\n",
        "        print(f\"Train Acc: {train_acc} | Val Acc: {val_acc}\")\n",
        "\n",
        "    plt.figure(figsize=(12, 5))\n",
        "\n",
        "    plt.subplot(1, 2, 1)\n",
        "    plt.plot(train_loss_history, label='Train Loss')\n",
        "    plt.plot(val_loss_history, label='Val Loss')\n",
        "    plt.xlabel('Epoch')\n",
        "    plt.ylabel('Loss')\n",
        "    plt.title(f'{model_name} Training/Validation Loss')\n",
        "    plt.legend()\n",
        "\n",
        "    plt.subplot(1, 2, 2)\n",
        "    plt.plot(train_acc_history, label='Train Acc')\n",
        "    plt.plot(val_acc_history, label='Val Acc')\n",
        "    plt.xlabel('Epoch')\n",
        "    plt.ylabel('Accuracy')\n",
        "    plt.title(f'{model_name} Training/Validation Accuracy')\n",
        "    plt.legend()\n",
        "\n",
        "    plt.tight_layout()\n",
        "    plt.show()\n",
        "\n",
        "\n",
        "def train_epoch(model, loader):\n",
        "    model.train()\n",
        "    correct = 0\n",
        "    total_loss = 0.\n",
        "    total_samples = 0  # Добавляем счетчик примеров\n",
        "\n",
        "    for input, target in loader:\n",
        "        input, target = input.to(DEVICE), target.long().to(DEVICE)\n",
        "        batch_size = input.size(0)  # Получаем размер текущего батча\n",
        "        optimizer.zero_grad()\n",
        "        output = model(input)\n",
        "\n",
        "        loss = criterion(output, target)\n",
        "        loss.backward()\n",
        "        optimizer.step()\n",
        "\n",
        "        total_loss += loss.item() * batch_size  # Умножаем на размер батча\n",
        "        preds = output.argmax(dim=1)\n",
        "        correct += (preds == target).sum().item()\n",
        "        total_samples += batch_size  # Учитываем все примеры\n",
        "\n",
        "    return total_loss / total_samples, correct / total_samples  # Делим на общее число примеров\n",
        "\n",
        "def evaluate(model, loader):\n",
        "    model.eval()\n",
        "    correct = 0\n",
        "    total_loss = 0.\n",
        "    total_samples = 0\n",
        "\n",
        "    with torch.no_grad():\n",
        "        for input, target in loader:\n",
        "            input, target = input.to(DEVICE), target.to(DEVICE)\n",
        "            batch_size = input.size(0)\n",
        "            output = model(input)\n",
        "\n",
        "            loss = criterion(output, target)\n",
        "            total_loss += loss.item() * batch_size\n",
        "\n",
        "            preds = output.argmax(dim=1)\n",
        "            correct += (preds == target).sum().item()\n",
        "            total_samples += batch_size\n",
        "\n",
        "    return total_loss / total_samples, correct / total_samples"
      ]
    },
    {
      "cell_type": "markdown",
      "source": [
        "### GRU model"
      ],
      "metadata": {
        "id": "Uk3EfDtApNSX"
      }
    },
    {
      "cell_type": "code",
      "source": [
        "import torch.nn as nn\n",
        "\n",
        "class GRUClassifier(nn.Module):\n",
        "    def __init__(self, voc_size, emb_dim = 128, hidden_dim = 256, n_layers = 1):\n",
        "        super().__init__()\n",
        "        self.embedding = nn.Embedding(voc_size, emb_dim, padding_idx=PAD_IDX)\n",
        "        self.gru = nn.GRU(\n",
        "            input_size = emb_dim,\n",
        "            hidden_size = hidden_dim,\n",
        "            num_layers = n_layers,\n",
        "            batch_first = True,\n",
        "            bidirectional = False\n",
        "        )\n",
        "        self.dropout = nn.Dropout(0.5)\n",
        "        self.fc = nn.Linear(hidden_dim, 2)\n",
        "\n",
        "    def forward(self, x):\n",
        "        # x: (batch_size, seq_len)\n",
        "        x = self.embedding(x)  # (batch_size, seq_len, emb_dim)\n",
        "        _, h_n = self.gru(x)   # h_n: (n_layers, batch_size, hidden_dim)\n",
        "        last_hidden = h_n[-1]\n",
        "        return self.fc(self.dropout(last_hidden))  # (batch_size,)"
      ],
      "metadata": {
        "id": "a8aidxq-pP2k"
      },
      "execution_count": 37,
      "outputs": []
    },
    {
      "cell_type": "code",
      "execution_count": 50,
      "metadata": {
        "id": "eNO6hD5pZtMp"
      },
      "outputs": [],
      "source": [
        "model = GRUClassifier(VOC_SIZE).to(DEVICE)\n",
        "criterion = nn.CrossEntropyLoss()\n",
        "optimizer = optim.Adam(model.parameters(), lr = 1e-3)"
      ]
    },
    {
      "cell_type": "code",
      "execution_count": 51,
      "metadata": {
        "colab": {
          "base_uri": "https://localhost:8080/",
          "height": 1000
        },
        "id": "iqbU0NAvBduE",
        "outputId": "bbc6ccd3-d0a2-45c2-d77b-fbf0fa32a386"
      },
      "outputs": [
        {
          "output_type": "stream",
          "name": "stderr",
          "text": [
            "  2%|▏         | 1/50 [00:00<00:17,  2.75it/s]"
          ]
        },
        {
          "output_type": "stream",
          "name": "stdout",
          "text": [
            "\n",
            "Epoch 1/50:\n",
            "Train Loss: 0.6933770740143607 | Val Loss: 0.691441623210907\n",
            "Train Acc: 0.5169781931464175 | Val Acc: 0.522\n"
          ]
        },
        {
          "output_type": "stream",
          "name": "stderr",
          "text": [
            "\r  4%|▍         | 2/50 [00:00<00:15,  3.00it/s]"
          ]
        },
        {
          "output_type": "stream",
          "name": "stdout",
          "text": [
            "\n",
            "Epoch 2/50:\n",
            "Train Loss: 0.6921080149965494 | Val Loss: 0.6916835579872131\n",
            "Train Acc: 0.5133956386292835 | Val Acc: 0.518\n"
          ]
        },
        {
          "output_type": "stream",
          "name": "stderr",
          "text": [
            "\r  6%|▌         | 3/50 [00:00<00:15,  3.07it/s]"
          ]
        },
        {
          "output_type": "stream",
          "name": "stdout",
          "text": [
            "\n",
            "Epoch 3/50:\n",
            "Train Loss: 0.6909660577031311 | Val Loss: 0.6920666785240174\n",
            "Train Acc: 0.5246105919003116 | Val Acc: 0.52\n"
          ]
        },
        {
          "output_type": "stream",
          "name": "stderr",
          "text": [
            "\r  8%|▊         | 4/50 [00:01<00:14,  3.09it/s]"
          ]
        },
        {
          "output_type": "stream",
          "name": "stdout",
          "text": [
            "\n",
            "Epoch 4/50:\n",
            "Train Loss: 0.691805161493961 | Val Loss: 0.6919458274841308\n",
            "Train Acc: 0.523208722741433 | Val Acc: 0.52\n"
          ]
        },
        {
          "output_type": "stream",
          "name": "stderr",
          "text": [
            "\r 10%|█         | 5/50 [00:01<00:14,  3.13it/s]"
          ]
        },
        {
          "output_type": "stream",
          "name": "stdout",
          "text": [
            "\n",
            "Epoch 5/50:\n",
            "Train Loss: 0.6903029913100127 | Val Loss: 0.6916014528274537\n",
            "Train Acc: 0.5158878504672897 | Val Acc: 0.522\n"
          ]
        },
        {
          "output_type": "stream",
          "name": "stderr",
          "text": [
            "\r 12%|█▏        | 6/50 [00:01<00:13,  3.14it/s]"
          ]
        },
        {
          "output_type": "stream",
          "name": "stdout",
          "text": [
            "\n",
            "Epoch 6/50:\n",
            "Train Loss: 0.6894309554887338 | Val Loss: 0.6929019522666932\n",
            "Train Acc: 0.5269470404984423 | Val Acc: 0.486\n"
          ]
        },
        {
          "output_type": "stream",
          "name": "stderr",
          "text": [
            "\r 14%|█▍        | 7/50 [00:02<00:13,  3.13it/s]"
          ]
        },
        {
          "output_type": "stream",
          "name": "stdout",
          "text": [
            "\n",
            "Epoch 7/50:\n",
            "Train Loss: 0.6911010005021021 | Val Loss: 0.6921382761001587\n",
            "Train Acc: 0.5121495327102804 | Val Acc: 0.52\n"
          ]
        },
        {
          "output_type": "stream",
          "name": "stderr",
          "text": [
            "\r 16%|█▌        | 8/50 [00:02<00:13,  3.15it/s]"
          ]
        },
        {
          "output_type": "stream",
          "name": "stdout",
          "text": [
            "\n",
            "Epoch 8/50:\n",
            "Train Loss: 0.6903413746958581 | Val Loss: 0.6919572305679321\n",
            "Train Acc: 0.5236760124610592 | Val Acc: 0.52\n"
          ]
        },
        {
          "output_type": "stream",
          "name": "stderr",
          "text": [
            "\r 18%|█▊        | 9/50 [00:02<00:13,  3.14it/s]"
          ]
        },
        {
          "output_type": "stream",
          "name": "stdout",
          "text": [
            "\n",
            "Epoch 9/50:\n",
            "Train Loss: 0.689978393550231 | Val Loss: 0.6921563458442688\n",
            "Train Acc: 0.5210280373831776 | Val Acc: 0.512\n"
          ]
        },
        {
          "output_type": "stream",
          "name": "stderr",
          "text": [
            "\r 20%|██        | 10/50 [00:03<00:12,  3.15it/s]"
          ]
        },
        {
          "output_type": "stream",
          "name": "stdout",
          "text": [
            "\n",
            "Epoch 10/50:\n",
            "Train Loss: 0.6786338821749821 | Val Loss: 0.6851094522476197\n",
            "Train Acc: 0.5713395638629284 | Val Acc: 0.59\n"
          ]
        },
        {
          "output_type": "stream",
          "name": "stderr",
          "text": [
            "\r 22%|██▏       | 11/50 [00:03<00:12,  3.16it/s]"
          ]
        },
        {
          "output_type": "stream",
          "name": "stdout",
          "text": [
            "\n",
            "Epoch 11/50:\n",
            "Train Loss: 0.6884355160306176 | Val Loss: 0.6913099412918091\n",
            "Train Acc: 0.5292834890965732 | Val Acc: 0.52\n"
          ]
        },
        {
          "output_type": "stream",
          "name": "stderr",
          "text": [
            "\r 24%|██▍       | 12/50 [00:03<00:12,  3.16it/s]"
          ]
        },
        {
          "output_type": "stream",
          "name": "stdout",
          "text": [
            "\n",
            "Epoch 12/50:\n",
            "Train Loss: 0.6857641066346213 | Val Loss: 0.6922376194000244\n",
            "Train Acc: 0.5161993769470405 | Val Acc: 0.494\n"
          ]
        },
        {
          "output_type": "stream",
          "name": "stderr",
          "text": [
            "\r 26%|██▌       | 13/50 [00:04<00:11,  3.15it/s]"
          ]
        },
        {
          "output_type": "stream",
          "name": "stdout",
          "text": [
            "\n",
            "Epoch 13/50:\n",
            "Train Loss: 0.6731433753283967 | Val Loss: 0.6649698204994202\n",
            "Train Acc: 0.5495327102803739 | Val Acc: 0.596\n"
          ]
        },
        {
          "output_type": "stream",
          "name": "stderr",
          "text": [
            "\r 28%|██▊       | 14/50 [00:04<00:11,  3.16it/s]"
          ]
        },
        {
          "output_type": "stream",
          "name": "stdout",
          "text": [
            "\n",
            "Epoch 14/50:\n",
            "Train Loss: 0.6069479602890966 | Val Loss: 0.7200756783485412\n",
            "Train Acc: 0.6813084112149532 | Val Acc: 0.656\n"
          ]
        },
        {
          "output_type": "stream",
          "name": "stderr",
          "text": [
            "\r 30%|███       | 15/50 [00:04<00:11,  3.16it/s]"
          ]
        },
        {
          "output_type": "stream",
          "name": "stdout",
          "text": [
            "\n",
            "Epoch 15/50:\n",
            "Train Loss: 0.510205100834184 | Val Loss: 0.6667734479904175\n",
            "Train Acc: 0.7696261682242991 | Val Acc: 0.672\n"
          ]
        },
        {
          "output_type": "stream",
          "name": "stderr",
          "text": [
            "\r 32%|███▏      | 16/50 [00:05<00:11,  3.04it/s]"
          ]
        },
        {
          "output_type": "stream",
          "name": "stdout",
          "text": [
            "\n",
            "Epoch 16/50:\n",
            "Train Loss: 0.40755892306844765 | Val Loss: 0.6015807709693909\n",
            "Train Acc: 0.8297507788161994 | Val Acc: 0.698\n"
          ]
        },
        {
          "output_type": "stream",
          "name": "stderr",
          "text": [
            "\r 34%|███▍      | 17/50 [00:05<00:11,  2.95it/s]"
          ]
        },
        {
          "output_type": "stream",
          "name": "stdout",
          "text": [
            "\n",
            "Epoch 17/50:\n",
            "Train Loss: 0.32060088166195283 | Val Loss: 0.6651310834884644\n",
            "Train Acc: 0.8789719626168224 | Val Acc: 0.706\n"
          ]
        },
        {
          "output_type": "stream",
          "name": "stderr",
          "text": [
            "\r 36%|███▌      | 18/50 [00:05<00:11,  2.89it/s]"
          ]
        },
        {
          "output_type": "stream",
          "name": "stdout",
          "text": [
            "\n",
            "Epoch 18/50:\n",
            "Train Loss: 0.2497954969465547 | Val Loss: 0.6698409419059753\n",
            "Train Acc: 0.9121495327102803 | Val Acc: 0.726\n"
          ]
        },
        {
          "output_type": "stream",
          "name": "stderr",
          "text": [
            "\r 38%|███▊      | 19/50 [00:06<00:10,  2.83it/s]"
          ]
        },
        {
          "output_type": "stream",
          "name": "stdout",
          "text": [
            "\n",
            "Epoch 19/50:\n",
            "Train Loss: 0.18650735323767054 | Val Loss: 0.835067545413971\n",
            "Train Acc: 0.9375389408099688 | Val Acc: 0.724\n"
          ]
        },
        {
          "output_type": "stream",
          "name": "stderr",
          "text": [
            "\r 40%|████      | 20/50 [00:06<00:10,  2.82it/s]"
          ]
        },
        {
          "output_type": "stream",
          "name": "stdout",
          "text": [
            "\n",
            "Epoch 20/50:\n",
            "Train Loss: 0.1327403758521949 | Val Loss: 0.8793581075668335\n",
            "Train Acc: 0.9621495327102804 | Val Acc: 0.714\n"
          ]
        },
        {
          "output_type": "stream",
          "name": "stderr",
          "text": [
            "\r 42%|████▏     | 21/50 [00:06<00:10,  2.83it/s]"
          ]
        },
        {
          "output_type": "stream",
          "name": "stdout",
          "text": [
            "\n",
            "Epoch 21/50:\n",
            "Train Loss: 0.09740487117076589 | Val Loss: 0.9827617554664612\n",
            "Train Acc: 0.9718068535825545 | Val Acc: 0.724\n"
          ]
        },
        {
          "output_type": "stream",
          "name": "stderr",
          "text": [
            "\r 44%|████▍     | 22/50 [00:07<00:09,  2.91it/s]"
          ]
        },
        {
          "output_type": "stream",
          "name": "stdout",
          "text": [
            "\n",
            "Epoch 22/50:\n",
            "Train Loss: 0.07735632411276812 | Val Loss: 1.1444612703323365\n",
            "Train Acc: 0.9753894080996884 | Val Acc: 0.734\n"
          ]
        },
        {
          "output_type": "stream",
          "name": "stderr",
          "text": [
            "\r 46%|████▌     | 23/50 [00:07<00:09,  2.96it/s]"
          ]
        },
        {
          "output_type": "stream",
          "name": "stdout",
          "text": [
            "\n",
            "Epoch 23/50:\n",
            "Train Loss: 0.057245301445394844 | Val Loss: 1.2188169498443604\n",
            "Train Acc: 0.9833333333333333 | Val Acc: 0.734\n"
          ]
        },
        {
          "output_type": "stream",
          "name": "stderr",
          "text": [
            "\r 48%|████▊     | 24/50 [00:07<00:08,  3.00it/s]"
          ]
        },
        {
          "output_type": "stream",
          "name": "stdout",
          "text": [
            "\n",
            "Epoch 24/50:\n",
            "Train Loss: 0.05867508293544392 | Val Loss: 1.0780535082817078\n",
            "Train Acc: 0.9830218068535825 | Val Acc: 0.732\n"
          ]
        },
        {
          "output_type": "stream",
          "name": "stderr",
          "text": [
            "\r 50%|█████     | 25/50 [00:08<00:08,  3.04it/s]"
          ]
        },
        {
          "output_type": "stream",
          "name": "stdout",
          "text": [
            "\n",
            "Epoch 25/50:\n",
            "Train Loss: 0.035624899018288955 | Val Loss: 1.3326629352569581\n",
            "Train Acc: 0.9884735202492212 | Val Acc: 0.734\n"
          ]
        },
        {
          "output_type": "stream",
          "name": "stderr",
          "text": [
            "\r 52%|█████▏    | 26/50 [00:08<00:07,  3.07it/s]"
          ]
        },
        {
          "output_type": "stream",
          "name": "stdout",
          "text": [
            "\n",
            "Epoch 26/50:\n",
            "Train Loss: 0.024357577381986323 | Val Loss: 1.2732823486328124\n",
            "Train Acc: 0.9929906542056075 | Val Acc: 0.742\n"
          ]
        },
        {
          "output_type": "stream",
          "name": "stderr",
          "text": [
            "\r 54%|█████▍    | 27/50 [00:08<00:07,  3.06it/s]"
          ]
        },
        {
          "output_type": "stream",
          "name": "stdout",
          "text": [
            "\n",
            "Epoch 27/50:\n",
            "Train Loss: 0.025527301739402278 | Val Loss: 1.2362215938568115\n",
            "Train Acc: 0.9926791277258566 | Val Acc: 0.72\n"
          ]
        },
        {
          "output_type": "stream",
          "name": "stderr",
          "text": [
            "\r 56%|█████▌    | 28/50 [00:09<00:07,  3.09it/s]"
          ]
        },
        {
          "output_type": "stream",
          "name": "stdout",
          "text": [
            "\n",
            "Epoch 28/50:\n",
            "Train Loss: 0.022732008459783418 | Val Loss: 1.3974547863006592\n",
            "Train Acc: 0.9940809968847352 | Val Acc: 0.734\n"
          ]
        },
        {
          "output_type": "stream",
          "name": "stderr",
          "text": [
            "\r 58%|█████▊    | 29/50 [00:09<00:06,  3.10it/s]"
          ]
        },
        {
          "output_type": "stream",
          "name": "stdout",
          "text": [
            "\n",
            "Epoch 29/50:\n",
            "Train Loss: 0.02154928690919252 | Val Loss: 1.4359525556564332\n",
            "Train Acc: 0.9934579439252337 | Val Acc: 0.74\n"
          ]
        },
        {
          "output_type": "stream",
          "name": "stderr",
          "text": [
            "\r 60%|██████    | 30/50 [00:09<00:06,  3.11it/s]"
          ]
        },
        {
          "output_type": "stream",
          "name": "stdout",
          "text": [
            "\n",
            "Epoch 30/50:\n",
            "Train Loss: 0.008164261211351002 | Val Loss: 1.5398981447219848\n",
            "Train Acc: 0.9978193146417446 | Val Acc: 0.746\n"
          ]
        },
        {
          "output_type": "stream",
          "name": "stderr",
          "text": [
            "\r 62%|██████▏   | 31/50 [00:10<00:06,  3.11it/s]"
          ]
        },
        {
          "output_type": "stream",
          "name": "stdout",
          "text": [
            "\n",
            "Epoch 31/50:\n",
            "Train Loss: 0.01320244574809093 | Val Loss: 1.7198063678741455\n",
            "Train Acc: 0.9959501557632399 | Val Acc: 0.724\n"
          ]
        },
        {
          "output_type": "stream",
          "name": "stderr",
          "text": [
            "\r 64%|██████▍   | 32/50 [00:10<00:05,  3.10it/s]"
          ]
        },
        {
          "output_type": "stream",
          "name": "stdout",
          "text": [
            "\n",
            "Epoch 32/50:\n",
            "Train Loss: 0.013923463049980107 | Val Loss: 1.7757738132476806\n",
            "Train Acc: 0.997196261682243 | Val Acc: 0.732\n"
          ]
        },
        {
          "output_type": "stream",
          "name": "stderr",
          "text": [
            "\r 66%|██████▌   | 33/50 [00:10<00:05,  3.12it/s]"
          ]
        },
        {
          "output_type": "stream",
          "name": "stdout",
          "text": [
            "\n",
            "Epoch 33/50:\n",
            "Train Loss: 0.00816544860871973 | Val Loss: 2.1083504180908204\n",
            "Train Acc: 0.9981308411214953 | Val Acc: 0.728\n"
          ]
        },
        {
          "output_type": "stream",
          "name": "stderr",
          "text": [
            "\r 68%|██████▊   | 34/50 [00:11<00:05,  3.11it/s]"
          ]
        },
        {
          "output_type": "stream",
          "name": "stdout",
          "text": [
            "\n",
            "Epoch 34/50:\n",
            "Train Loss: 0.014696194846589246 | Val Loss: 1.5017374591827393\n",
            "Train Acc: 0.9968847352024922 | Val Acc: 0.728\n"
          ]
        },
        {
          "output_type": "stream",
          "name": "stderr",
          "text": [
            "\r 70%|███████   | 35/50 [00:11<00:04,  3.12it/s]"
          ]
        },
        {
          "output_type": "stream",
          "name": "stdout",
          "text": [
            "\n",
            "Epoch 35/50:\n",
            "Train Loss: 0.005337385407966674 | Val Loss: 1.9669003219604493\n",
            "Train Acc: 0.9989096573208722 | Val Acc: 0.744\n"
          ]
        },
        {
          "output_type": "stream",
          "name": "stderr",
          "text": [
            "\r 72%|███████▏  | 36/50 [00:11<00:04,  3.13it/s]"
          ]
        },
        {
          "output_type": "stream",
          "name": "stdout",
          "text": [
            "\n",
            "Epoch 36/50:\n",
            "Train Loss: 0.0167188684351603 | Val Loss: 1.5415591297149658\n",
            "Train Acc: 0.9950155763239875 | Val Acc: 0.752\n"
          ]
        },
        {
          "output_type": "stream",
          "name": "stderr",
          "text": [
            "\r 74%|███████▍  | 37/50 [00:12<00:04,  3.13it/s]"
          ]
        },
        {
          "output_type": "stream",
          "name": "stdout",
          "text": [
            "\n",
            "Epoch 37/50:\n",
            "Train Loss: 0.010581901813480087 | Val Loss: 1.5966718702316285\n",
            "Train Acc: 0.997196261682243 | Val Acc: 0.742\n"
          ]
        },
        {
          "output_type": "stream",
          "name": "stderr",
          "text": [
            "\r 76%|███████▌  | 38/50 [00:12<00:03,  3.11it/s]"
          ]
        },
        {
          "output_type": "stream",
          "name": "stdout",
          "text": [
            "\n",
            "Epoch 38/50:\n",
            "Train Loss: 0.0042502407769373736 | Val Loss: 1.8530256872177124\n",
            "Train Acc: 0.9992211838006231 | Val Acc: 0.744\n"
          ]
        },
        {
          "output_type": "stream",
          "name": "stderr",
          "text": [
            "\r 78%|███████▊  | 39/50 [00:12<00:03,  3.12it/s]"
          ]
        },
        {
          "output_type": "stream",
          "name": "stdout",
          "text": [
            "\n",
            "Epoch 39/50:\n",
            "Train Loss: 0.004392877683432256 | Val Loss: 1.7382606220245362\n",
            "Train Acc: 0.9990654205607477 | Val Acc: 0.738\n"
          ]
        },
        {
          "output_type": "stream",
          "name": "stderr",
          "text": [
            "\r 80%|████████  | 40/50 [00:13<00:03,  3.13it/s]"
          ]
        },
        {
          "output_type": "stream",
          "name": "stdout",
          "text": [
            "\n",
            "Epoch 40/50:\n",
            "Train Loss: 0.005252281714352631 | Val Loss: 1.5958301725387574\n",
            "Train Acc: 0.9989096573208722 | Val Acc: 0.758\n"
          ]
        },
        {
          "output_type": "stream",
          "name": "stderr",
          "text": [
            "\r 82%|████████▏ | 41/50 [00:13<00:02,  3.13it/s]"
          ]
        },
        {
          "output_type": "stream",
          "name": "stdout",
          "text": [
            "\n",
            "Epoch 41/50:\n",
            "Train Loss: 0.0066712544427320036 | Val Loss: 1.9860204229354859\n",
            "Train Acc: 0.99797507788162 | Val Acc: 0.736\n"
          ]
        },
        {
          "output_type": "stream",
          "name": "stderr",
          "text": [
            "\r 84%|████████▍ | 42/50 [00:13<00:02,  3.12it/s]"
          ]
        },
        {
          "output_type": "stream",
          "name": "stdout",
          "text": [
            "\n",
            "Epoch 42/50:\n",
            "Train Loss: 0.01539264302874837 | Val Loss: 1.9296861066818238\n",
            "Train Acc: 0.9954828660436137 | Val Acc: 0.726\n"
          ]
        },
        {
          "output_type": "stream",
          "name": "stderr",
          "text": [
            "\r 86%|████████▌ | 43/50 [00:14<00:02,  3.12it/s]"
          ]
        },
        {
          "output_type": "stream",
          "name": "stdout",
          "text": [
            "\n",
            "Epoch 43/50:\n",
            "Train Loss: 0.018958546169032562 | Val Loss: 1.4279313373565674\n",
            "Train Acc: 0.9962616822429906 | Val Acc: 0.722\n"
          ]
        },
        {
          "output_type": "stream",
          "name": "stderr",
          "text": [
            "\r 88%|████████▊ | 44/50 [00:14<00:01,  3.12it/s]"
          ]
        },
        {
          "output_type": "stream",
          "name": "stdout",
          "text": [
            "\n",
            "Epoch 44/50:\n",
            "Train Loss: 0.013897637789524988 | Val Loss: 1.6744347372055053\n",
            "Train Acc: 0.9959501557632399 | Val Acc: 0.728\n"
          ]
        },
        {
          "output_type": "stream",
          "name": "stderr",
          "text": [
            "\r 90%|█████████ | 45/50 [00:14<00:01,  3.11it/s]"
          ]
        },
        {
          "output_type": "stream",
          "name": "stdout",
          "text": [
            "\n",
            "Epoch 45/50:\n",
            "Train Loss: 0.005459832980346828 | Val Loss: 1.9012256965637206\n",
            "Train Acc: 0.9982866043613707 | Val Acc: 0.722\n"
          ]
        },
        {
          "output_type": "stream",
          "name": "stderr",
          "text": [
            "\r 92%|█████████▏| 46/50 [00:14<00:01,  3.12it/s]"
          ]
        },
        {
          "output_type": "stream",
          "name": "stdout",
          "text": [
            "\n",
            "Epoch 46/50:\n",
            "Train Loss: 0.002084086683609253 | Val Loss: 2.088676294326782\n",
            "Train Acc: 0.9995327102803738 | Val Acc: 0.72\n"
          ]
        },
        {
          "output_type": "stream",
          "name": "stderr",
          "text": [
            "\r 94%|█████████▍| 47/50 [00:15<00:00,  3.14it/s]"
          ]
        },
        {
          "output_type": "stream",
          "name": "stdout",
          "text": [
            "\n",
            "Epoch 47/50:\n",
            "Train Loss: 0.005745075803324058 | Val Loss: 1.9406584482192992\n",
            "Train Acc: 0.9984423676012462 | Val Acc: 0.724\n"
          ]
        },
        {
          "output_type": "stream",
          "name": "stderr",
          "text": [
            "\r 96%|█████████▌| 48/50 [00:15<00:00,  3.12it/s]"
          ]
        },
        {
          "output_type": "stream",
          "name": "stdout",
          "text": [
            "\n",
            "Epoch 48/50:\n",
            "Train Loss: 0.002604323602462843 | Val Loss: 1.9744472332000733\n",
            "Train Acc: 0.9990654205607477 | Val Acc: 0.728\n"
          ]
        },
        {
          "output_type": "stream",
          "name": "stderr",
          "text": [
            "\r 98%|█████████▊| 49/50 [00:15<00:00,  3.12it/s]"
          ]
        },
        {
          "output_type": "stream",
          "name": "stdout",
          "text": [
            "\n",
            "Epoch 49/50:\n",
            "Train Loss: 0.000376292861576665 | Val Loss: 2.2521342363357544\n",
            "Train Acc: 1.0 | Val Acc: 0.732\n"
          ]
        },
        {
          "output_type": "stream",
          "name": "stderr",
          "text": [
            "100%|██████████| 50/50 [00:16<00:00,  3.07it/s]"
          ]
        },
        {
          "output_type": "stream",
          "name": "stdout",
          "text": [
            "\n",
            "Epoch 50/50:\n",
            "Train Loss: 0.00011124605703895848 | Val Loss: 2.3394362716674806\n",
            "Train Acc: 1.0 | Val Acc: 0.73\n"
          ]
        },
        {
          "output_type": "stream",
          "name": "stderr",
          "text": [
            "\n"
          ]
        },
        {
          "output_type": "display_data",
          "data": {
            "text/plain": [
              "<Figure size 1200x500 with 2 Axes>"
            ],
            "image/png": "[encoded data removed]"
          },
          "metadata": {}
        }
      ],
      "source": [
        "train(model, train_loader, test_loader, epochs = 50)"
      ]
    },
    {
      "cell_type": "markdown",
      "metadata": {
        "id": "q0H43xC1ahGj"
      },
      "source": [
        "### Transformer model"
      ]
    },
    {
      "cell_type": "code",
      "execution_count": 40,
      "metadata": {
        "id": "UiWNOV3Aaim6"
      },
      "outputs": [],
      "source": [
        "class TransformerClassifier(nn.Module):\n",
        "    def __init__(self, voc_size, emb_dim = 128, nhead = 4, num_layers = 2, dropout = 0.2):\n",
        "        super().__init__()\n",
        "        self.embedding = nn.Embedding(voc_size, emb_dim, padding_idx = PAD_IDX)\n",
        "        encoder_layer = nn.TransformerEncoderLayer(\n",
        "            d_model = emb_dim,\n",
        "            nhead = nhead,\n",
        "            dropout = dropout,\n",
        "            batch_first = True,\n",
        "            activation = 'gelu'\n",
        "        )\n",
        "        self.transformer = nn.TransformerEncoder(encoder_layer, num_layers = num_layers)\n",
        "        self.fc = nn.Linear(emb_dim, 2)\n",
        "        self.dropout = nn.Dropout(dropout)\n",
        "\n",
        "    def forward(self, x):\n",
        "        x = self.embedding(x)\n",
        "        x = self.dropout(x)\n",
        "        x = self.transformer(x)\n",
        "        x = x.mean(dim = 1)\n",
        "        return self.fc(x)"
      ]
    },
    {
      "cell_type": "code",
      "execution_count": 45,
      "metadata": {
        "id": "4iqa_gnxapS9"
      },
      "outputs": [],
      "source": [
        "model = TransformerClassifier(\n",
        "    voc_size=VOC_SIZE,\n",
        "    emb_dim = 256,\n",
        "    nhead = 8,\n",
        "    num_layers = 4\n",
        ").to(DEVICE)\n",
        "criterion = nn.CrossEntropyLoss()\n",
        "optimizer = optim.Adam(model.parameters(), lr = 1e-4)"
      ]
    },
    {
      "cell_type": "code",
      "source": [
        "train(\n",
        "    model,\n",
        "    train_loader,\n",
        "    test_loader,\n",
        "    epochs = 100,\n",
        "    device = DEVICE,\n",
        "    model_name = \"Transformer\"\n",
        ")"
      ],
      "metadata": {
        "colab": {
          "base_uri": "https://localhost:8080/",
          "height": 1000
        },
        "id": "59WVaUJBrAh4",
        "outputId": "730ed3e5-fbc7-44b9-ec6a-84e085008f2b"
      },
      "execution_count": 46,
      "outputs": [
        {
          "output_type": "stream",
          "name": "stderr",
          "text": [
            "  1%|          | 1/100 [00:04<06:36,  4.01s/it]"
          ]
        },
        {
          "output_type": "stream",
          "name": "stdout",
          "text": [
            "\n",
            "Epoch 1/100:\n",
            "Train Loss: 0.6848672615033444 | Val Loss: 0.6621023764610291\n",
            "Train Acc: 0.5661993769470405 | Val Acc: 0.6\n"
          ]
        },
        {
          "output_type": "stream",
          "name": "stderr",
          "text": [
            "\r  2%|▏         | 2/100 [00:07<06:28,  3.96s/it]"
          ]
        },
        {
          "output_type": "stream",
          "name": "stdout",
          "text": [
            "\n",
            "Epoch 2/100:\n",
            "Train Loss: 0.6536674565243944 | Val Loss: 0.6629420127868653\n",
            "Train Acc: 0.6105919003115264 | Val Acc: 0.604\n"
          ]
        },
        {
          "output_type": "stream",
          "name": "stderr",
          "text": [
            "\r  3%|▎         | 3/100 [00:11<06:22,  3.94s/it]"
          ]
        },
        {
          "output_type": "stream",
          "name": "stdout",
          "text": [
            "\n",
            "Epoch 3/100:\n",
            "Train Loss: 0.6369723326691957 | Val Loss: 0.6743710980415344\n",
            "Train Acc: 0.6333333333333333 | Val Acc: 0.58\n"
          ]
        },
        {
          "output_type": "stream",
          "name": "stderr",
          "text": [
            "\r  4%|▍         | 4/100 [00:15<06:17,  3.93s/it]"
          ]
        },
        {
          "output_type": "stream",
          "name": "stdout",
          "text": [
            "\n",
            "Epoch 4/100:\n",
            "Train Loss: 0.6297138231937016 | Val Loss: 0.6676629257202148\n",
            "Train Acc: 0.6422118380062305 | Val Acc: 0.642\n"
          ]
        },
        {
          "output_type": "stream",
          "name": "stderr",
          "text": [
            "\r  5%|▌         | 5/100 [00:19<06:14,  3.94s/it]"
          ]
        },
        {
          "output_type": "stream",
          "name": "stdout",
          "text": [
            "\n",
            "Epoch 5/100:\n",
            "Train Loss: 0.6143315899037869 | Val Loss: 0.6584418439865112\n",
            "Train Acc: 0.6621495327102803 | Val Acc: 0.638\n"
          ]
        },
        {
          "output_type": "stream",
          "name": "stderr",
          "text": [
            "\r  6%|▌         | 6/100 [00:23<06:11,  3.96s/it]"
          ]
        },
        {
          "output_type": "stream",
          "name": "stdout",
          "text": [
            "\n",
            "Epoch 6/100:\n",
            "Train Loss: 0.6116657307214826 | Val Loss: 0.641594747543335\n",
            "Train Acc: 0.6627725856697819 | Val Acc: 0.65\n"
          ]
        },
        {
          "output_type": "stream",
          "name": "stderr",
          "text": [
            "\r  7%|▋         | 7/100 [00:27<06:07,  3.95s/it]"
          ]
        },
        {
          "output_type": "stream",
          "name": "stdout",
          "text": [
            "\n",
            "Epoch 7/100:\n",
            "Train Loss: 0.588468091658714 | Val Loss: 0.665397349357605\n",
            "Train Acc: 0.682398753894081 | Val Acc: 0.664\n"
          ]
        },
        {
          "output_type": "stream",
          "name": "stderr",
          "text": [
            "\r  8%|▊         | 8/100 [00:31<06:04,  3.96s/it]"
          ]
        },
        {
          "output_type": "stream",
          "name": "stdout",
          "text": [
            "\n",
            "Epoch 8/100:\n",
            "Train Loss: 0.5725141679015116 | Val Loss: 0.6529690127372741\n",
            "Train Acc: 0.6968847352024922 | Val Acc: 0.652\n"
          ]
        },
        {
          "output_type": "stream",
          "name": "stderr",
          "text": [
            "\r  9%|▉         | 9/100 [00:35<06:02,  3.98s/it]"
          ]
        },
        {
          "output_type": "stream",
          "name": "stdout",
          "text": [
            "\n",
            "Epoch 9/100:\n",
            "Train Loss: 0.571577548720755 | Val Loss: 0.6661532492637634\n",
            "Train Acc: 0.6950155763239876 | Val Acc: 0.63\n"
          ]
        },
        {
          "output_type": "stream",
          "name": "stderr",
          "text": [
            "\r 10%|█         | 10/100 [00:39<05:59,  3.99s/it]"
          ]
        },
        {
          "output_type": "stream",
          "name": "stdout",
          "text": [
            "\n",
            "Epoch 10/100:\n",
            "Train Loss: 0.5642206825199899 | Val Loss: 0.6721745362281799\n",
            "Train Acc: 0.711214953271028 | Val Acc: 0.652\n"
          ]
        },
        {
          "output_type": "stream",
          "name": "stderr",
          "text": [
            "\r 11%|█         | 11/100 [00:43<05:55,  4.00s/it]"
          ]
        },
        {
          "output_type": "stream",
          "name": "stdout",
          "text": [
            "\n",
            "Epoch 11/100:\n",
            "Train Loss: 0.5388544663833309 | Val Loss: 0.6917795586585999\n",
            "Train Acc: 0.7219626168224299 | Val Acc: 0.63\n"
          ]
        },
        {
          "output_type": "stream",
          "name": "stderr",
          "text": [
            "\r 12%|█▏        | 12/100 [00:47<05:48,  3.97s/it]"
          ]
        },
        {
          "output_type": "stream",
          "name": "stdout",
          "text": [
            "\n",
            "Epoch 12/100:\n",
            "Train Loss: 0.5307313800043778 | Val Loss: 0.693340705871582\n",
            "Train Acc: 0.7274143302180686 | Val Acc: 0.648\n"
          ]
        },
        {
          "output_type": "stream",
          "name": "stderr",
          "text": [
            "\r 13%|█▎        | 13/100 [00:51<05:45,  3.98s/it]"
          ]
        },
        {
          "output_type": "stream",
          "name": "stdout",
          "text": [
            "\n",
            "Epoch 13/100:\n",
            "Train Loss: 0.511603912906112 | Val Loss: 0.7287847809791564\n",
            "Train Acc: 0.7390965732087228 | Val Acc: 0.648\n"
          ]
        },
        {
          "output_type": "stream",
          "name": "stderr",
          "text": [
            "\r 14%|█▍        | 14/100 [00:55<05:43,  3.99s/it]"
          ]
        },
        {
          "output_type": "stream",
          "name": "stdout",
          "text": [
            "\n",
            "Epoch 14/100:\n",
            "Train Loss: 0.49826307014512866 | Val Loss: 0.7066475095748901\n",
            "Train Acc: 0.7540498442367601 | Val Acc: 0.63\n"
          ]
        },
        {
          "output_type": "stream",
          "name": "stderr",
          "text": [
            "\r 15%|█▌        | 15/100 [00:59<05:37,  3.97s/it]"
          ]
        },
        {
          "output_type": "stream",
          "name": "stdout",
          "text": [
            "\n",
            "Epoch 15/100:\n",
            "Train Loss: 0.4855986958352205 | Val Loss: 0.6905608034133911\n",
            "Train Acc: 0.7602803738317757 | Val Acc: 0.654\n"
          ]
        },
        {
          "output_type": "stream",
          "name": "stderr",
          "text": [
            "\r 16%|█▌        | 16/100 [01:03<05:31,  3.94s/it]"
          ]
        },
        {
          "output_type": "stream",
          "name": "stdout",
          "text": [
            "\n",
            "Epoch 16/100:\n",
            "Train Loss: 0.4688543486075238 | Val Loss: 0.6932904043197632\n",
            "Train Acc: 0.7730529595015576 | Val Acc: 0.656\n"
          ]
        },
        {
          "output_type": "stream",
          "name": "stderr",
          "text": [
            "\r 17%|█▋        | 17/100 [01:07<05:26,  3.94s/it]"
          ]
        },
        {
          "output_type": "stream",
          "name": "stdout",
          "text": [
            "\n",
            "Epoch 17/100:\n",
            "Train Loss: 0.4596261964037411 | Val Loss: 0.7330181293487549\n",
            "Train Acc: 0.7727414330218069 | Val Acc: 0.672\n"
          ]
        },
        {
          "output_type": "stream",
          "name": "stderr",
          "text": [
            "\r 18%|█▊        | 18/100 [01:11<05:22,  3.93s/it]"
          ]
        },
        {
          "output_type": "stream",
          "name": "stdout",
          "text": [
            "\n",
            "Epoch 18/100:\n",
            "Train Loss: 0.46109411330237937 | Val Loss: 0.7519061098098755\n",
            "Train Acc: 0.7747663551401869 | Val Acc: 0.654\n"
          ]
        },
        {
          "output_type": "stream",
          "name": "stderr",
          "text": [
            "\r 19%|█▉        | 19/100 [01:15<05:17,  3.92s/it]"
          ]
        },
        {
          "output_type": "stream",
          "name": "stdout",
          "text": [
            "\n",
            "Epoch 19/100:\n",
            "Train Loss: 0.4184048867671289 | Val Loss: 0.8058524107933045\n",
            "Train Acc: 0.8070093457943925 | Val Acc: 0.636\n"
          ]
        },
        {
          "output_type": "stream",
          "name": "stderr",
          "text": [
            "\r 20%|██        | 20/100 [01:19<05:13,  3.92s/it]"
          ]
        },
        {
          "output_type": "stream",
          "name": "stdout",
          "text": [
            "\n",
            "Epoch 20/100:\n",
            "Train Loss: 0.4105649669222371 | Val Loss: 0.8121285367012024\n",
            "Train Acc: 0.8042056074766355 | Val Acc: 0.646\n"
          ]
        },
        {
          "output_type": "stream",
          "name": "stderr",
          "text": [
            "\r 21%|██        | 21/100 [01:23<05:10,  3.93s/it]"
          ]
        },
        {
          "output_type": "stream",
          "name": "stdout",
          "text": [
            "\n",
            "Epoch 21/100:\n",
            "Train Loss: 0.38937182023517813 | Val Loss: 0.8347749657630921\n",
            "Train Acc: 0.823208722741433 | Val Acc: 0.656\n"
          ]
        },
        {
          "output_type": "stream",
          "name": "stderr",
          "text": [
            "\r 22%|██▏       | 22/100 [01:26<05:05,  3.92s/it]"
          ]
        },
        {
          "output_type": "stream",
          "name": "stdout",
          "text": [
            "\n",
            "Epoch 22/100:\n",
            "Train Loss: 0.3682754021195979 | Val Loss: 0.8504167342185974\n",
            "Train Acc: 0.8311526479750779 | Val Acc: 0.674\n"
          ]
        },
        {
          "output_type": "stream",
          "name": "stderr",
          "text": [
            "\r 23%|██▎       | 23/100 [01:30<05:03,  3.94s/it]"
          ]
        },
        {
          "output_type": "stream",
          "name": "stdout",
          "text": [
            "\n",
            "Epoch 23/100:\n",
            "Train Loss: 0.3557206316157665 | Val Loss: 0.842349579334259\n",
            "Train Acc: 0.8389408099688473 | Val Acc: 0.676\n"
          ]
        },
        {
          "output_type": "stream",
          "name": "stderr",
          "text": [
            "\r 24%|██▍       | 24/100 [01:34<04:58,  3.93s/it]"
          ]
        },
        {
          "output_type": "stream",
          "name": "stdout",
          "text": [
            "\n",
            "Epoch 24/100:\n",
            "Train Loss: 0.33686369962038654 | Val Loss: 0.8496718740463257\n",
            "Train Acc: 0.85 | Val Acc: 0.67\n"
          ]
        },
        {
          "output_type": "stream",
          "name": "stderr",
          "text": [
            "\r 25%|██▌       | 25/100 [01:38<04:53,  3.92s/it]"
          ]
        },
        {
          "output_type": "stream",
          "name": "stdout",
          "text": [
            "\n",
            "Epoch 25/100:\n",
            "Train Loss: 0.3176777372850436 | Val Loss: 0.9247551164627075\n",
            "Train Acc: 0.8601246105919003 | Val Acc: 0.656\n"
          ]
        },
        {
          "output_type": "stream",
          "name": "stderr",
          "text": [
            "\r 26%|██▌       | 26/100 [01:42<04:50,  3.93s/it]"
          ]
        },
        {
          "output_type": "stream",
          "name": "stdout",
          "text": [
            "\n",
            "Epoch 26/100:\n",
            "Train Loss: 0.29085461935521656 | Val Loss: 0.9234728531837464\n",
            "Train Acc: 0.8755451713395639 | Val Acc: 0.67\n"
          ]
        },
        {
          "output_type": "stream",
          "name": "stderr",
          "text": [
            "\r 27%|██▋       | 27/100 [01:46<04:47,  3.94s/it]"
          ]
        },
        {
          "output_type": "stream",
          "name": "stdout",
          "text": [
            "\n",
            "Epoch 27/100:\n",
            "Train Loss: 0.2756544605965184 | Val Loss: 0.9457179737091065\n",
            "Train Acc: 0.8825545171339564 | Val Acc: 0.674\n"
          ]
        },
        {
          "output_type": "stream",
          "name": "stderr",
          "text": [
            "\r 28%|██▊       | 28/100 [01:50<04:43,  3.94s/it]"
          ]
        },
        {
          "output_type": "stream",
          "name": "stdout",
          "text": [
            "\n",
            "Epoch 28/100:\n",
            "Train Loss: 0.25820004065460134 | Val Loss: 1.0505523262023926\n",
            "Train Acc: 0.8909657320872274 | Val Acc: 0.668\n"
          ]
        },
        {
          "output_type": "stream",
          "name": "stderr",
          "text": [
            "\r 29%|██▉       | 29/100 [01:54<04:40,  3.96s/it]"
          ]
        },
        {
          "output_type": "stream",
          "name": "stdout",
          "text": [
            "\n",
            "Epoch 29/100:\n",
            "Train Loss: 0.2385306255468327 | Val Loss: 1.1278806505203247\n",
            "Train Acc: 0.9 | Val Acc: 0.658\n"
          ]
        },
        {
          "output_type": "stream",
          "name": "stderr",
          "text": [
            "\r 30%|███       | 30/100 [01:58<04:36,  3.95s/it]"
          ]
        },
        {
          "output_type": "stream",
          "name": "stdout",
          "text": [
            "\n",
            "Epoch 30/100:\n",
            "Train Loss: 0.28041041149899965 | Val Loss: 0.9075670056343078\n",
            "Train Acc: 0.8794392523364486 | Val Acc: 0.68\n"
          ]
        },
        {
          "output_type": "stream",
          "name": "stderr",
          "text": [
            "\r 31%|███       | 31/100 [02:02<04:33,  3.96s/it]"
          ]
        },
        {
          "output_type": "stream",
          "name": "stdout",
          "text": [
            "\n",
            "Epoch 31/100:\n",
            "Train Loss: 0.2575537995943028 | Val Loss: 0.977579282283783\n",
            "Train Acc: 0.8897196261682243 | Val Acc: 0.668\n"
          ]
        },
        {
          "output_type": "stream",
          "name": "stderr",
          "text": [
            "\r 32%|███▏      | 32/100 [02:06<04:28,  3.95s/it]"
          ]
        },
        {
          "output_type": "stream",
          "name": "stdout",
          "text": [
            "\n",
            "Epoch 32/100:\n",
            "Train Loss: 0.20021492681027944 | Val Loss: 1.008058135986328\n",
            "Train Acc: 0.920404984423676 | Val Acc: 0.674\n"
          ]
        },
        {
          "output_type": "stream",
          "name": "stderr",
          "text": [
            "\r 33%|███▎      | 33/100 [02:10<04:23,  3.94s/it]"
          ]
        },
        {
          "output_type": "stream",
          "name": "stdout",
          "text": [
            "\n",
            "Epoch 33/100:\n",
            "Train Loss: 0.1834684159246932 | Val Loss: 1.068893138885498\n",
            "Train Acc: 0.9274143302180685 | Val Acc: 0.676\n"
          ]
        },
        {
          "output_type": "stream",
          "name": "stderr",
          "text": [
            "\r 34%|███▍      | 34/100 [02:14<04:19,  3.94s/it]"
          ]
        },
        {
          "output_type": "stream",
          "name": "stdout",
          "text": [
            "\n",
            "Epoch 34/100:\n",
            "Train Loss: 0.17125976509022936 | Val Loss: 1.1152337617874146\n",
            "Train Acc: 0.9292834890965732 | Val Acc: 0.678\n"
          ]
        },
        {
          "output_type": "stream",
          "name": "stderr",
          "text": [
            "\r 35%|███▌      | 35/100 [02:18<04:15,  3.94s/it]"
          ]
        },
        {
          "output_type": "stream",
          "name": "stdout",
          "text": [
            "\n",
            "Epoch 35/100:\n",
            "Train Loss: 0.17052223539426692 | Val Loss: 1.193645733833313\n",
            "Train Acc: 0.9313084112149532 | Val Acc: 0.688\n"
          ]
        },
        {
          "output_type": "stream",
          "name": "stderr",
          "text": [
            "\r 36%|███▌      | 36/100 [02:22<04:11,  3.93s/it]"
          ]
        },
        {
          "output_type": "stream",
          "name": "stdout",
          "text": [
            "\n",
            "Epoch 36/100:\n",
            "Train Loss: 0.16147662668584664 | Val Loss: 1.1882727394104005\n",
            "Train Acc: 0.9338006230529595 | Val Acc: 0.674\n"
          ]
        },
        {
          "output_type": "stream",
          "name": "stderr",
          "text": [
            "\r 37%|███▋      | 37/100 [02:26<04:07,  3.92s/it]"
          ]
        },
        {
          "output_type": "stream",
          "name": "stdout",
          "text": [
            "\n",
            "Epoch 37/100:\n",
            "Train Loss: 0.1662411422094452 | Val Loss: 1.2136598091125488\n",
            "Train Acc: 0.9309968847352025 | Val Acc: 0.686\n"
          ]
        },
        {
          "output_type": "stream",
          "name": "stderr",
          "text": [
            "\r 38%|███▊      | 38/100 [02:29<04:02,  3.92s/it]"
          ]
        },
        {
          "output_type": "stream",
          "name": "stdout",
          "text": [
            "\n",
            "Epoch 38/100:\n",
            "Train Loss: 0.14276196340627018 | Val Loss: 1.2790279417037964\n",
            "Train Acc: 0.9436137071651091 | Val Acc: 0.674\n"
          ]
        },
        {
          "output_type": "stream",
          "name": "stderr",
          "text": [
            "\r 39%|███▉      | 39/100 [02:33<03:58,  3.92s/it]"
          ]
        },
        {
          "output_type": "stream",
          "name": "stdout",
          "text": [
            "\n",
            "Epoch 39/100:\n",
            "Train Loss: 0.13676669871510003 | Val Loss: 1.2911881866455077\n",
            "Train Acc: 0.9479750778816199 | Val Acc: 0.688\n"
          ]
        },
        {
          "output_type": "stream",
          "name": "stderr",
          "text": [
            "\r 40%|████      | 40/100 [02:37<03:55,  3.93s/it]"
          ]
        },
        {
          "output_type": "stream",
          "name": "stdout",
          "text": [
            "\n",
            "Epoch 40/100:\n",
            "Train Loss: 0.13222311134000433 | Val Loss: 1.3359313764572143\n",
            "Train Acc: 0.9501557632398754 | Val Acc: 0.694\n"
          ]
        },
        {
          "output_type": "stream",
          "name": "stderr",
          "text": [
            "\r 41%|████      | 41/100 [02:41<03:51,  3.93s/it]"
          ]
        },
        {
          "output_type": "stream",
          "name": "stdout",
          "text": [
            "\n",
            "Epoch 41/100:\n",
            "Train Loss: 0.11410299608269213 | Val Loss: 1.3636478672027588\n",
            "Train Acc: 0.9552959501557632 | Val Acc: 0.688\n"
          ]
        },
        {
          "output_type": "stream",
          "name": "stderr",
          "text": [
            "\r 42%|████▏     | 42/100 [02:45<03:48,  3.94s/it]"
          ]
        },
        {
          "output_type": "stream",
          "name": "stdout",
          "text": [
            "\n",
            "Epoch 42/100:\n",
            "Train Loss: 0.14383974563666965 | Val Loss: 1.2958666315078735\n",
            "Train Acc: 0.944392523364486 | Val Acc: 0.69\n"
          ]
        },
        {
          "output_type": "stream",
          "name": "stderr",
          "text": [
            "\r 43%|████▎     | 43/100 [02:49<03:44,  3.93s/it]"
          ]
        },
        {
          "output_type": "stream",
          "name": "stdout",
          "text": [
            "\n",
            "Epoch 43/100:\n",
            "Train Loss: 0.11579407656164926 | Val Loss: 1.2144617395401\n",
            "Train Acc: 0.9545171339563863 | Val Acc: 0.696\n"
          ]
        },
        {
          "output_type": "stream",
          "name": "stderr",
          "text": [
            "\r 44%|████▍     | 44/100 [02:53<03:39,  3.93s/it]"
          ]
        },
        {
          "output_type": "stream",
          "name": "stdout",
          "text": [
            "\n",
            "Epoch 44/100:\n",
            "Train Loss: 0.09576518015930215 | Val Loss: 1.3504179525375366\n",
            "Train Acc: 0.9638629283489096 | Val Acc: 0.702\n"
          ]
        },
        {
          "output_type": "stream",
          "name": "stderr",
          "text": [
            "\r 45%|████▌     | 45/100 [02:57<03:36,  3.93s/it]"
          ]
        },
        {
          "output_type": "stream",
          "name": "stdout",
          "text": [
            "\n",
            "Epoch 45/100:\n",
            "Train Loss: 0.08941318045407998 | Val Loss: 1.402632791519165\n",
            "Train Acc: 0.967601246105919 | Val Acc: 0.698\n"
          ]
        },
        {
          "output_type": "stream",
          "name": "stderr",
          "text": [
            "\r 46%|████▌     | 46/100 [03:01<03:31,  3.91s/it]"
          ]
        },
        {
          "output_type": "stream",
          "name": "stdout",
          "text": [
            "\n",
            "Epoch 46/100:\n",
            "Train Loss: 0.08118390461366125 | Val Loss: 1.3671642427444457\n",
            "Train Acc: 0.9721183800623053 | Val Acc: 0.722\n"
          ]
        },
        {
          "output_type": "stream",
          "name": "stderr",
          "text": [
            "\r 47%|████▋     | 47/100 [03:05<03:26,  3.91s/it]"
          ]
        },
        {
          "output_type": "stream",
          "name": "stdout",
          "text": [
            "\n",
            "Epoch 47/100:\n",
            "Train Loss: 0.08957982836204155 | Val Loss: 1.3880378065109253\n",
            "Train Acc: 0.9674454828660436 | Val Acc: 0.694\n"
          ]
        },
        {
          "output_type": "stream",
          "name": "stderr",
          "text": [
            "\r 48%|████▊     | 48/100 [03:09<03:23,  3.92s/it]"
          ]
        },
        {
          "output_type": "stream",
          "name": "stdout",
          "text": [
            "\n",
            "Epoch 48/100:\n",
            "Train Loss: 0.07639973718800648 | Val Loss: 1.4983761491775514\n",
            "Train Acc: 0.9713395638629283 | Val Acc: 0.706\n"
          ]
        },
        {
          "output_type": "stream",
          "name": "stderr",
          "text": [
            "\r 49%|████▉     | 49/100 [03:13<03:19,  3.91s/it]"
          ]
        },
        {
          "output_type": "stream",
          "name": "stdout",
          "text": [
            "\n",
            "Epoch 49/100:\n",
            "Train Loss: 0.10542660227445798 | Val Loss: 1.4159621677398682\n",
            "Train Acc: 0.9615264797507788 | Val Acc: 0.686\n"
          ]
        },
        {
          "output_type": "stream",
          "name": "stderr",
          "text": [
            "\r 50%|█████     | 50/100 [03:17<03:16,  3.92s/it]"
          ]
        },
        {
          "output_type": "stream",
          "name": "stdout",
          "text": [
            "\n",
            "Epoch 50/100:\n",
            "Train Loss: 0.08876214077771638 | Val Loss: 1.4085303888320924\n",
            "Train Acc: 0.9658878504672898 | Val Acc: 0.686\n"
          ]
        },
        {
          "output_type": "stream",
          "name": "stderr",
          "text": [
            "\r 51%|█████     | 51/100 [03:20<03:12,  3.93s/it]"
          ]
        },
        {
          "output_type": "stream",
          "name": "stdout",
          "text": [
            "\n",
            "Epoch 51/100:\n",
            "Train Loss: 0.07302013934703074 | Val Loss: 1.4756431951522828\n",
            "Train Acc: 0.9714953271028037 | Val Acc: 0.7\n"
          ]
        },
        {
          "output_type": "stream",
          "name": "stderr",
          "text": [
            "\r 52%|█████▏    | 52/100 [03:24<03:09,  3.95s/it]"
          ]
        },
        {
          "output_type": "stream",
          "name": "stdout",
          "text": [
            "\n",
            "Epoch 52/100:\n",
            "Train Loss: 0.06664577158301419 | Val Loss: 1.5001866636276244\n",
            "Train Acc: 0.9757009345794393 | Val Acc: 0.694\n"
          ]
        },
        {
          "output_type": "stream",
          "name": "stderr",
          "text": [
            "\r 53%|█████▎    | 53/100 [03:28<03:05,  3.94s/it]"
          ]
        },
        {
          "output_type": "stream",
          "name": "stdout",
          "text": [
            "\n",
            "Epoch 53/100:\n",
            "Train Loss: 0.0613527786601741 | Val Loss: 1.463075117111206\n",
            "Train Acc: 0.9778816199376947 | Val Acc: 0.706\n"
          ]
        },
        {
          "output_type": "stream",
          "name": "stderr",
          "text": [
            "\r 54%|█████▍    | 54/100 [03:32<03:00,  3.93s/it]"
          ]
        },
        {
          "output_type": "stream",
          "name": "stdout",
          "text": [
            "\n",
            "Epoch 54/100:\n",
            "Train Loss: 0.06584793750742143 | Val Loss: 1.5378460521697999\n",
            "Train Acc: 0.9781931464174455 | Val Acc: 0.694\n"
          ]
        },
        {
          "output_type": "stream",
          "name": "stderr",
          "text": [
            "\r 55%|█████▌    | 55/100 [03:36<02:56,  3.93s/it]"
          ]
        },
        {
          "output_type": "stream",
          "name": "stdout",
          "text": [
            "\n",
            "Epoch 55/100:\n",
            "Train Loss: 0.05202013528978342 | Val Loss: 1.5422886915206908\n",
            "Train Acc: 0.9820872274143302 | Val Acc: 0.706\n"
          ]
        },
        {
          "output_type": "stream",
          "name": "stderr",
          "text": [
            "\r 56%|█████▌    | 56/100 [03:40<02:53,  3.94s/it]"
          ]
        },
        {
          "output_type": "stream",
          "name": "stdout",
          "text": [
            "\n",
            "Epoch 56/100:\n",
            "Train Loss: 0.06599521589497354 | Val Loss: 1.5432167911529542\n",
            "Train Acc: 0.9750778816199377 | Val Acc: 0.702\n"
          ]
        },
        {
          "output_type": "stream",
          "name": "stderr",
          "text": [
            "\r 57%|█████▋    | 57/100 [03:44<02:49,  3.94s/it]"
          ]
        },
        {
          "output_type": "stream",
          "name": "stdout",
          "text": [
            "\n",
            "Epoch 57/100:\n",
            "Train Loss: 0.04860876909111891 | Val Loss: 1.5893883771896362\n",
            "Train Acc: 0.9822429906542056 | Val Acc: 0.702\n"
          ]
        },
        {
          "output_type": "stream",
          "name": "stderr",
          "text": [
            "\r 58%|█████▊    | 58/100 [03:48<02:45,  3.93s/it]"
          ]
        },
        {
          "output_type": "stream",
          "name": "stdout",
          "text": [
            "\n",
            "Epoch 58/100:\n",
            "Train Loss: 0.060441443349620635 | Val Loss: 1.5380719480514526\n",
            "Train Acc: 0.9789719626168224 | Val Acc: 0.706\n"
          ]
        },
        {
          "output_type": "stream",
          "name": "stderr",
          "text": [
            "\r 59%|█████▉    | 59/100 [03:52<02:41,  3.95s/it]"
          ]
        },
        {
          "output_type": "stream",
          "name": "stdout",
          "text": [
            "\n",
            "Epoch 59/100:\n",
            "Train Loss: 0.052698419435744714 | Val Loss: 1.5607000894546508\n",
            "Train Acc: 0.9814641744548287 | Val Acc: 0.692\n"
          ]
        },
        {
          "output_type": "stream",
          "name": "stderr",
          "text": [
            "\r 60%|██████    | 60/100 [03:56<02:37,  3.94s/it]"
          ]
        },
        {
          "output_type": "stream",
          "name": "stdout",
          "text": [
            "\n",
            "Epoch 60/100:\n",
            "Train Loss: 0.05461175063874491 | Val Loss: 1.611304102897644\n",
            "Train Acc: 0.9806853582554517 | Val Acc: 0.698\n"
          ]
        },
        {
          "output_type": "stream",
          "name": "stderr",
          "text": [
            "\r 61%|██████    | 61/100 [04:00<02:33,  3.94s/it]"
          ]
        },
        {
          "output_type": "stream",
          "name": "stdout",
          "text": [
            "\n",
            "Epoch 61/100:\n",
            "Train Loss: 0.07993161951502165 | Val Loss: 1.485744870185852\n",
            "Train Acc: 0.969626168224299 | Val Acc: 0.696\n"
          ]
        },
        {
          "output_type": "stream",
          "name": "stderr",
          "text": [
            "\r 62%|██████▏   | 62/100 [04:04<02:29,  3.94s/it]"
          ]
        },
        {
          "output_type": "stream",
          "name": "stdout",
          "text": [
            "\n",
            "Epoch 62/100:\n",
            "Train Loss: 0.05069578548550977 | Val Loss: 1.519492395401001\n",
            "Train Acc: 0.9828660436137072 | Val Acc: 0.694\n"
          ]
        },
        {
          "output_type": "stream",
          "name": "stderr",
          "text": [
            "\r 63%|██████▎   | 63/100 [04:08<02:25,  3.93s/it]"
          ]
        },
        {
          "output_type": "stream",
          "name": "stdout",
          "text": [
            "\n",
            "Epoch 63/100:\n",
            "Train Loss: 0.053268610002513615 | Val Loss: 1.5983093366622925\n",
            "Train Acc: 0.9802180685358255 | Val Acc: 0.704\n"
          ]
        },
        {
          "output_type": "stream",
          "name": "stderr",
          "text": [
            "\r 64%|██████▍   | 64/100 [04:12<02:21,  3.92s/it]"
          ]
        },
        {
          "output_type": "stream",
          "name": "stdout",
          "text": [
            "\n",
            "Epoch 64/100:\n",
            "Train Loss: 0.05355651456851083 | Val Loss: 1.540159278869629\n",
            "Train Acc: 0.9819314641744549 | Val Acc: 0.7\n"
          ]
        },
        {
          "output_type": "stream",
          "name": "stderr",
          "text": [
            "\r 65%|██████▌   | 65/100 [04:16<02:17,  3.92s/it]"
          ]
        },
        {
          "output_type": "stream",
          "name": "stdout",
          "text": [
            "\n",
            "Epoch 65/100:\n",
            "Train Loss: 0.041926425747643006 | Val Loss: 1.5975134754180909\n",
            "Train Acc: 0.9858255451713396 | Val Acc: 0.698\n"
          ]
        },
        {
          "output_type": "stream",
          "name": "stderr",
          "text": [
            "\r 66%|██████▌   | 66/100 [04:19<02:13,  3.93s/it]"
          ]
        },
        {
          "output_type": "stream",
          "name": "stdout",
          "text": [
            "\n",
            "Epoch 66/100:\n",
            "Train Loss: 0.04530213794633282 | Val Loss: 1.591336130142212\n",
            "Train Acc: 0.9833333333333333 | Val Acc: 0.708\n"
          ]
        },
        {
          "output_type": "stream",
          "name": "stderr",
          "text": [
            "\r 67%|██████▋   | 67/100 [04:23<02:09,  3.93s/it]"
          ]
        },
        {
          "output_type": "stream",
          "name": "stdout",
          "text": [
            "\n",
            "Epoch 67/100:\n",
            "Train Loss: 0.042631237856707194 | Val Loss: 1.592101674079895\n",
            "Train Acc: 0.9839563862928349 | Val Acc: 0.712\n"
          ]
        },
        {
          "output_type": "stream",
          "name": "stderr",
          "text": [
            "\r 68%|██████▊   | 68/100 [04:27<02:06,  3.94s/it]"
          ]
        },
        {
          "output_type": "stream",
          "name": "stdout",
          "text": [
            "\n",
            "Epoch 68/100:\n",
            "Train Loss: 0.03854755933086077 | Val Loss: 1.567099871635437\n",
            "Train Acc: 0.9850467289719627 | Val Acc: 0.716\n"
          ]
        },
        {
          "output_type": "stream",
          "name": "stderr",
          "text": [
            "\r 69%|██████▉   | 69/100 [04:31<02:02,  3.94s/it]"
          ]
        },
        {
          "output_type": "stream",
          "name": "stdout",
          "text": [
            "\n",
            "Epoch 69/100:\n",
            "Train Loss: 0.02925564866524619 | Val Loss: 1.625692400932312\n",
            "Train Acc: 0.990031152647975 | Val Acc: 0.698\n"
          ]
        },
        {
          "output_type": "stream",
          "name": "stderr",
          "text": [
            "\r 70%|███████   | 70/100 [04:35<01:58,  3.93s/it]"
          ]
        },
        {
          "output_type": "stream",
          "name": "stdout",
          "text": [
            "\n",
            "Epoch 70/100:\n",
            "Train Loss: 0.04524805185115226 | Val Loss: 1.6734527988433838\n",
            "Train Acc: 0.9858255451713396 | Val Acc: 0.704\n"
          ]
        },
        {
          "output_type": "stream",
          "name": "stderr",
          "text": [
            "\r 71%|███████   | 71/100 [04:39<01:54,  3.95s/it]"
          ]
        },
        {
          "output_type": "stream",
          "name": "stdout",
          "text": [
            "\n",
            "Epoch 71/100:\n",
            "Train Loss: 0.03871511119240866 | Val Loss: 1.7575498552322388\n",
            "Train Acc: 0.9876947040498443 | Val Acc: 0.702\n"
          ]
        },
        {
          "output_type": "stream",
          "name": "stderr",
          "text": [
            "\r 72%|███████▏  | 72/100 [04:43<01:50,  3.94s/it]"
          ]
        },
        {
          "output_type": "stream",
          "name": "stdout",
          "text": [
            "\n",
            "Epoch 72/100:\n",
            "Train Loss: 0.03730110353862757 | Val Loss: 1.6383803901672362\n",
            "Train Acc: 0.9850467289719627 | Val Acc: 0.71\n"
          ]
        },
        {
          "output_type": "stream",
          "name": "stderr",
          "text": [
            "\r 73%|███████▎  | 73/100 [04:47<01:46,  3.95s/it]"
          ]
        },
        {
          "output_type": "stream",
          "name": "stdout",
          "text": [
            "\n",
            "Epoch 73/100:\n",
            "Train Loss: 0.06220993613389051 | Val Loss: 1.5549158420562743\n",
            "Train Acc: 0.979595015576324 | Val Acc: 0.712\n"
          ]
        },
        {
          "output_type": "stream",
          "name": "stderr",
          "text": [
            "\r 74%|███████▍  | 74/100 [04:51<01:42,  3.96s/it]"
          ]
        },
        {
          "output_type": "stream",
          "name": "stdout",
          "text": [
            "\n",
            "Epoch 74/100:\n",
            "Train Loss: 0.060399536663126724 | Val Loss: 1.5330195789337158\n",
            "Train Acc: 0.9788161993769471 | Val Acc: 0.716\n"
          ]
        },
        {
          "output_type": "stream",
          "name": "stderr",
          "text": [
            "\r 75%|███████▌  | 75/100 [04:55<01:38,  3.95s/it]"
          ]
        },
        {
          "output_type": "stream",
          "name": "stdout",
          "text": [
            "\n",
            "Epoch 75/100:\n",
            "Train Loss: 0.04567276835731721 | Val Loss: 1.5427750759124756\n",
            "Train Acc: 0.9848909657320872 | Val Acc: 0.714\n"
          ]
        },
        {
          "output_type": "stream",
          "name": "stderr",
          "text": [
            "\r 76%|███████▌  | 76/100 [04:59<01:34,  3.94s/it]"
          ]
        },
        {
          "output_type": "stream",
          "name": "stdout",
          "text": [
            "\n",
            "Epoch 76/100:\n",
            "Train Loss: 0.03565514567844871 | Val Loss: 1.6212974710464478\n",
            "Train Acc: 0.9875389408099688 | Val Acc: 0.702\n"
          ]
        },
        {
          "output_type": "stream",
          "name": "stderr",
          "text": [
            "\r 77%|███████▋  | 77/100 [05:03<01:30,  3.95s/it]"
          ]
        },
        {
          "output_type": "stream",
          "name": "stdout",
          "text": [
            "\n",
            "Epoch 77/100:\n",
            "Train Loss: 0.028621407392843863 | Val Loss: 1.6167417650222777\n",
            "Train Acc: 0.990031152647975 | Val Acc: 0.72\n"
          ]
        },
        {
          "output_type": "stream",
          "name": "stderr",
          "text": [
            "\r 78%|███████▊  | 78/100 [05:07<01:26,  3.94s/it]"
          ]
        },
        {
          "output_type": "stream",
          "name": "stdout",
          "text": [
            "\n",
            "Epoch 78/100:\n",
            "Train Loss: 0.029588639795362394 | Val Loss: 1.5840888109207154\n",
            "Train Acc: 0.9892523364485981 | Val Acc: 0.732\n"
          ]
        },
        {
          "output_type": "stream",
          "name": "stderr",
          "text": [
            "\r 79%|███████▉  | 79/100 [05:11<01:22,  3.94s/it]"
          ]
        },
        {
          "output_type": "stream",
          "name": "stdout",
          "text": [
            "\n",
            "Epoch 79/100:\n",
            "Train Loss: 0.028217530455817454 | Val Loss: 1.5783549013137816\n",
            "Train Acc: 0.9904984423676012 | Val Acc: 0.72\n"
          ]
        },
        {
          "output_type": "stream",
          "name": "stderr",
          "text": [
            "\r 80%|████████  | 80/100 [05:15<01:18,  3.94s/it]"
          ]
        },
        {
          "output_type": "stream",
          "name": "stdout",
          "text": [
            "\n",
            "Epoch 80/100:\n",
            "Train Loss: 0.03735536550783851 | Val Loss: 1.6710182571411132\n",
            "Train Acc: 0.9873831775700934 | Val Acc: 0.728\n"
          ]
        },
        {
          "output_type": "stream",
          "name": "stderr",
          "text": [
            "\r 81%|████████  | 81/100 [05:19<01:15,  3.95s/it]"
          ]
        },
        {
          "output_type": "stream",
          "name": "stdout",
          "text": [
            "\n",
            "Epoch 81/100:\n",
            "Train Loss: 0.033525569757847026 | Val Loss: 1.5802520790100099\n",
            "Train Acc: 0.9881619937694704 | Val Acc: 0.736\n"
          ]
        },
        {
          "output_type": "stream",
          "name": "stderr",
          "text": [
            "\r 82%|████████▏ | 82/100 [05:23<01:10,  3.94s/it]"
          ]
        },
        {
          "output_type": "stream",
          "name": "stdout",
          "text": [
            "\n",
            "Epoch 82/100:\n",
            "Train Loss: 0.02617331728849827 | Val Loss: 1.570017683982849\n",
            "Train Acc: 0.9914330218068536 | Val Acc: 0.732\n"
          ]
        },
        {
          "output_type": "stream",
          "name": "stderr",
          "text": [
            "\r 83%|████████▎ | 83/100 [05:26<01:06,  3.92s/it]"
          ]
        },
        {
          "output_type": "stream",
          "name": "stdout",
          "text": [
            "\n",
            "Epoch 83/100:\n",
            "Train Loss: 0.039797238364954975 | Val Loss: 1.6425479011535644\n",
            "Train Acc: 0.9856697819314642 | Val Acc: 0.714\n"
          ]
        },
        {
          "output_type": "stream",
          "name": "stderr",
          "text": [
            "\r 84%|████████▍ | 84/100 [05:30<01:02,  3.93s/it]"
          ]
        },
        {
          "output_type": "stream",
          "name": "stdout",
          "text": [
            "\n",
            "Epoch 84/100:\n",
            "Train Loss: 0.040867844999207883 | Val Loss: 1.635730128288269\n",
            "Train Acc: 0.9864485981308411 | Val Acc: 0.712\n"
          ]
        },
        {
          "output_type": "stream",
          "name": "stderr",
          "text": [
            "\r 85%|████████▌ | 85/100 [05:34<00:58,  3.92s/it]"
          ]
        },
        {
          "output_type": "stream",
          "name": "stdout",
          "text": [
            "\n",
            "Epoch 85/100:\n",
            "Train Loss: 0.0336406492599144 | Val Loss: 1.735088493347168\n",
            "Train Acc: 0.9895638629283489 | Val Acc: 0.71\n"
          ]
        },
        {
          "output_type": "stream",
          "name": "stderr",
          "text": [
            "\r 86%|████████▌ | 86/100 [05:38<00:55,  3.93s/it]"
          ]
        },
        {
          "output_type": "stream",
          "name": "stdout",
          "text": [
            "\n",
            "Epoch 86/100:\n",
            "Train Loss: 0.031364244129798866 | Val Loss: 1.7123213939666748\n",
            "Train Acc: 0.9903426791277259 | Val Acc: 0.712\n"
          ]
        },
        {
          "output_type": "stream",
          "name": "stderr",
          "text": [
            "\r 87%|████████▋ | 87/100 [05:42<00:51,  3.93s/it]"
          ]
        },
        {
          "output_type": "stream",
          "name": "stdout",
          "text": [
            "\n",
            "Epoch 87/100:\n",
            "Train Loss: 0.04789376515790681 | Val Loss: 1.6056403188705444\n",
            "Train Acc: 0.981619937694704 | Val Acc: 0.716\n"
          ]
        },
        {
          "output_type": "stream",
          "name": "stderr",
          "text": [
            "\r 88%|████████▊ | 88/100 [05:46<00:47,  3.93s/it]"
          ]
        },
        {
          "output_type": "stream",
          "name": "stdout",
          "text": [
            "\n",
            "Epoch 88/100:\n",
            "Train Loss: 0.030155138369661254 | Val Loss: 1.6081084661483764\n",
            "Train Acc: 0.9897196261682243 | Val Acc: 0.714\n"
          ]
        },
        {
          "output_type": "stream",
          "name": "stderr",
          "text": [
            "\r 89%|████████▉ | 89/100 [05:50<00:43,  3.93s/it]"
          ]
        },
        {
          "output_type": "stream",
          "name": "stdout",
          "text": [
            "\n",
            "Epoch 89/100:\n",
            "Train Loss: 0.029362718957676507 | Val Loss: 1.7173621139526367\n",
            "Train Acc: 0.9903426791277259 | Val Acc: 0.706\n"
          ]
        },
        {
          "output_type": "stream",
          "name": "stderr",
          "text": [
            "\r 90%|█████████ | 90/100 [05:54<00:39,  3.94s/it]"
          ]
        },
        {
          "output_type": "stream",
          "name": "stdout",
          "text": [
            "\n",
            "Epoch 90/100:\n",
            "Train Loss: 0.026803926366883276 | Val Loss: 1.6622810440063476\n",
            "Train Acc: 0.9906542056074766 | Val Acc: 0.716\n"
          ]
        },
        {
          "output_type": "stream",
          "name": "stderr",
          "text": [
            "\r 91%|█████████ | 91/100 [05:58<00:35,  3.93s/it]"
          ]
        },
        {
          "output_type": "stream",
          "name": "stdout",
          "text": [
            "\n",
            "Epoch 91/100:\n",
            "Train Loss: 0.052306697409124206 | Val Loss: 1.5766078214645385\n",
            "Train Acc: 0.9827102803738318 | Val Acc: 0.712\n"
          ]
        },
        {
          "output_type": "stream",
          "name": "stderr",
          "text": [
            "\r 92%|█████████▏| 92/100 [06:02<00:31,  3.95s/it]"
          ]
        },
        {
          "output_type": "stream",
          "name": "stdout",
          "text": [
            "\n",
            "Epoch 92/100:\n",
            "Train Loss: 0.03253534127641875 | Val Loss: 1.5926500749588013\n",
            "Train Acc: 0.9886292834890966 | Val Acc: 0.712\n"
          ]
        },
        {
          "output_type": "stream",
          "name": "stderr",
          "text": [
            "\r 93%|█████████▎| 93/100 [06:06<00:27,  3.95s/it]"
          ]
        },
        {
          "output_type": "stream",
          "name": "stdout",
          "text": [
            "\n",
            "Epoch 93/100:\n",
            "Train Loss: 0.023275550698565545 | Val Loss: 1.7234641494750977\n",
            "Train Acc: 0.9917445482866044 | Val Acc: 0.706\n"
          ]
        },
        {
          "output_type": "stream",
          "name": "stderr",
          "text": [
            "\r 94%|█████████▍| 94/100 [06:10<00:23,  3.94s/it]"
          ]
        },
        {
          "output_type": "stream",
          "name": "stdout",
          "text": [
            "\n",
            "Epoch 94/100:\n",
            "Train Loss: 0.02708755589073605 | Val Loss: 1.673637794494629\n",
            "Train Acc: 0.9904984423676012 | Val Acc: 0.716\n"
          ]
        },
        {
          "output_type": "stream",
          "name": "stderr",
          "text": [
            "\r 95%|█████████▌| 95/100 [06:14<00:19,  3.93s/it]"
          ]
        },
        {
          "output_type": "stream",
          "name": "stdout",
          "text": [
            "\n",
            "Epoch 95/100:\n",
            "Train Loss: 0.02282667132152529 | Val Loss: 1.6875710973739624\n",
            "Train Acc: 0.9914330218068536 | Val Acc: 0.742\n"
          ]
        },
        {
          "output_type": "stream",
          "name": "stderr",
          "text": [
            "\r 96%|█████████▌| 96/100 [06:18<00:15,  3.93s/it]"
          ]
        },
        {
          "output_type": "stream",
          "name": "stdout",
          "text": [
            "\n",
            "Epoch 96/100:\n",
            "Train Loss: 0.025239541478646554 | Val Loss: 1.7199910125732423\n",
            "Train Acc: 0.9901869158878505 | Val Acc: 0.716\n"
          ]
        },
        {
          "output_type": "stream",
          "name": "stderr",
          "text": [
            "\r 97%|█████████▋| 97/100 [06:22<00:11,  3.93s/it]"
          ]
        },
        {
          "output_type": "stream",
          "name": "stdout",
          "text": [
            "\n",
            "Epoch 97/100:\n",
            "Train Loss: 0.025307404437911844 | Val Loss: 1.824244089126587\n",
            "Train Acc: 0.9920560747663552 | Val Acc: 0.71\n"
          ]
        },
        {
          "output_type": "stream",
          "name": "stderr",
          "text": [
            "\r 98%|█████████▊| 98/100 [06:26<00:07,  3.93s/it]"
          ]
        },
        {
          "output_type": "stream",
          "name": "stdout",
          "text": [
            "\n",
            "Epoch 98/100:\n",
            "Train Loss: 0.07741197443268381 | Val Loss: 1.6505035963058472\n",
            "Train Acc: 0.9719626168224299 | Val Acc: 0.716\n"
          ]
        },
        {
          "output_type": "stream",
          "name": "stderr",
          "text": [
            "\r 99%|█████████▉| 99/100 [06:29<00:03,  3.91s/it]"
          ]
        },
        {
          "output_type": "stream",
          "name": "stdout",
          "text": [
            "\n",
            "Epoch 99/100:\n",
            "Train Loss: 0.044537927734888974 | Val Loss: 1.6556392288208008\n",
            "Train Acc: 0.9845794392523365 | Val Acc: 0.704\n"
          ]
        },
        {
          "output_type": "stream",
          "name": "stderr",
          "text": [
            "100%|██████████| 100/100 [06:33<00:00,  3.94s/it]"
          ]
        },
        {
          "output_type": "stream",
          "name": "stdout",
          "text": [
            "\n",
            "Epoch 100/100:\n",
            "Train Loss: 0.031934693346316476 | Val Loss: 1.6584172410964966\n",
            "Train Acc: 0.9887850467289719 | Val Acc: 0.716\n"
          ]
        },
        {
          "output_type": "stream",
          "name": "stderr",
          "text": [
            "\n"
          ]
        },
        {
          "output_type": "display_data",
          "data": {
            "text/plain": [
              "<Figure size 1200x500 with 2 Axes>"
            ],
            "image/png": "[encoded data removed]"
          },
          "metadata": {}
        }
      ]
    }
  ],
  "metadata": {
    "accelerator": "GPU",
    "colab": {
      "gpuType": "T4",
      "provenance": [],
      "authorship_tag": "ABX9TyP0H8EfpXJTL/NW+gyads4Z",
      "include_colab_link": true
    },
    "kernelspec": {
      "display_name": "Python 3",
      "name": "python3"
    },
    "language_info": {
      "name": "python"
    }
  },
  "nbformat": 4,
  "nbformat_minor": 0
}